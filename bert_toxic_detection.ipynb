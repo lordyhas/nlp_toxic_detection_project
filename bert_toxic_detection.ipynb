{
  "cells": [
    {
      "cell_type": "markdown",
      "metadata": {
        "id": "UXvG9s6qFqSR"
      },
      "source": []
    },
    {
      "cell_type": "code",
      "execution_count": null,
      "metadata": {
        "id": "m3INgcoQFqSU"
      },
      "outputs": [],
      "source": []
    },
    {
      "cell_type": "code",
      "execution_count": null,
      "metadata": {
        "id": "Qe9nCmeFFqSU"
      },
      "outputs": [],
      "source": []
    },
    {
      "cell_type": "markdown",
      "metadata": {
        "id": "CxXogn6AFqSV"
      },
      "source": [
        "# **********************************************************************"
      ]
    },
    {
      "cell_type": "markdown",
      "metadata": {
        "id": "cD2qMx97FqSV"
      },
      "source": [
        "### Attention Models\n",
        "\n",
        "This is the toughest and most tricky part. If you are able to understand the intiuition and working of attention block , understanding transformers and transformer based architectures like BERT will be a piece of cake. This is the part where I spent the most time on and I suggest you do the same . Please read and view the following resources in the order I am providing to ignore getting confused, also at the end of this try to write and draw an attention block in your own way :-\n",
        "\n",
        "* https://www.coursera.org/learn/nlp-sequence-models/lecture/RDXpX/attention-model-intuition --> Only watch this video and not the next one\n",
        "* https://towardsdatascience.com/sequence-2-sequence-model-with-attention-mechanism-9e9ca2a613a\n",
        "* https://towardsdatascience.com/attention-and-its-different-forms-7fc3674d14dc\n",
        "* https://distill.pub/2016/augmented-rnns/\n",
        "\n",
        "#### Code Implementation\n",
        "\n",
        "* https://www.analyticsvidhya.com/blog/2019/11/comprehensive-guide-attention-mechanism-deep-learning/ --> Basic Level\n",
        "* https://pytorch.org/tutorials/intermediate/seq2seq_translation_tutorial.html ---> Implementation from Scratch in Pytorch"
      ]
    },
    {
      "cell_type": "markdown",
      "metadata": {
        "id": "VXvh94o_FqSV"
      },
      "source": [
        "### Transformers : Attention is all you need\n",
        "\n",
        "So finally we have reached the end of the learning curve and are about to start learning the technology that changed NLP completely and are the reasons for the state of the art NLP techniques .Transformers were introduced in the paper Attention is all you need by Google. If you have understood the Attention models,this will be very easy , Here is transformers fully explained:\n",
        "\n",
        "* http://jalammar.github.io/illustrated-transformer/\n",
        "\n",
        "#### Code Implementation\n",
        "\n",
        "* http://nlp.seas.harvard.edu/2018/04/03/attention.html ---> This presents the code implementation of the architecture presented in the paper by Google"
      ]
    },
    {
      "cell_type": "markdown",
      "metadata": {
        "id": "XP8tHxQ_FqSV"
      },
      "source": [
        "### BERT and Its Implementation on this Competition\n",
        "\n",
        "As Promised I am back with Resiurces , to understand about BERT architecture , please follow the contents in the given order :-\n",
        "\n",
        "* http://jalammar.github.io/illustrated-bert/ ---> In Depth Understanding of BERT\n",
        "\n",
        "After going through the post Above , I guess you must have understood how transformer architecture have been utilized by the current SOTA models . Now these architectures can be used in two ways :<br><br>\n",
        "1) We can use the model for prediction on our problems using the pretrained weights without fine-tuning or training the model for our sepcific tasks\n",
        "* EG: http://jalammar.github.io/a-visual-guide-to-using-bert-for-the-first-time/ ---> Using Pre-trained BERT without Tuning\n",
        "\n",
        "2) We can fine-tune or train these transformer models for our task by tweaking the already pre-trained weights and training on a much smaller dataset\n",
        "* EG:* https://www.youtube.com/watch?v=hinZO--TEk4&t=2933s ---> Tuning BERT For your TASK\n",
        "\n",
        "We will be using the first example as a base for our implementation of BERT model using Hugging Face and KERAS , but contrary to first example we will also Fine-Tune our model for our task\n",
        "\n",
        "Acknowledgements : https://www.kaggle.com/xhlulu/jigsaw-tpu-distilbert-with-huggingface-and-keras\n",
        "\n",
        "\n",
        "Steps Involved :\n",
        "* Data Preparation : Tokenization and encoding of data\n",
        "* Configuring TPU's\n",
        "* Building a Function for Model Training and adding an output layer for classification\n",
        "* Train the model and get the results"
      ]
    },
    {
      "cell_type": "markdown",
      "metadata": {
        "id": "m9OdHN1aIjDp"
      },
      "source": [
        "### Import"
      ]
    },
    {
      "cell_type": "code",
      "execution_count": null,
      "metadata": {
        "id": "Ie9hL6hqFqSW"
      },
      "outputs": [],
      "source": [
        "# Loading Dependencies\n",
        "import os\n",
        "from tqdm import tqdm\n",
        "import numpy as np # linear algebra\n",
        "import pandas as pd # data processing, CSV file I/O (e.g. pd.read_csv)\n",
        "import tensorflow as tf\n",
        "from keras.layers import Dense, Input, Dropout\n",
        "from keras.optimizers import Adam\n",
        "from keras.optimizers import AdamW\n",
        "from keras.optimizers import Nadam\n",
        "from keras.optimizers import RMSprop\n",
        "from keras.models import Model\n",
        "from keras.callbacks import ModelCheckpoint\n",
        "#from kaggle_datasets import KaggleDatasets\n",
        "import transformers\n",
        "\n",
        "from tokenizers import BertWordPieceTokenizer\n",
        "\n",
        "from sklearn import preprocessing, decomposition, model_selection, metrics, pipeline\n"
      ]
    },
    {
      "cell_type": "code",
      "execution_count": null,
      "metadata": {
        "id": "5UGSITkcIqq7"
      },
      "outputs": [],
      "source": []
    },
    {
      "cell_type": "markdown",
      "metadata": {
        "id": "KIbVNID9I8G9"
      },
      "source": [
        "### Configuring TPU's\n",
        "\n",
        "For this version of Notebook we will be using TPU's as we have to built a BERT Model"
      ]
    },
    {
      "cell_type": "code",
      "execution_count": null,
      "metadata": {
        "colab": {
          "base_uri": "https://localhost:8080/"
        },
        "id": "GVh8htpWIf2h",
        "outputId": "31c8fefb-a5a6-458c-ad20-455c0a3e5888"
      },
      "outputs": [
        {
          "name": "stdout",
          "output_type": "stream",
          "text": [
            "REPLICAS:  1\n"
          ]
        }
      ],
      "source": [
        "# Detect hardware, return appropriate distribution strategy\n",
        "try:\n",
        "    # TPU detection. No parameters necessary if TPU_NAME environment variable is\n",
        "    # set: this is always the case on Kaggle.\n",
        "    tpu = tf.distribute.cluster_resolver.TPUClusterResolver()\n",
        "    print('Running on TPU ', tpu.master())\n",
        "except ValueError:\n",
        "    tpu = None\n",
        "\n",
        "if tpu:\n",
        "    tf.config.experimental_connect_to_cluster(tpu)\n",
        "    tf.tpu.experimental.initialize_tpu_system(tpu)\n",
        "    strategy = tf.distribute.experimental.TPUStrategy(tpu)\n",
        "else:\n",
        "    # Default distribution strategy in Tensorflow. Works on CPU and single GPU.\n",
        "    strategy = tf.distribute.get_strategy()\n",
        "\n",
        "print(\"REPLICAS: \", strategy.num_replicas_in_sync)"
      ]
    },
    {
      "cell_type": "markdown",
      "metadata": {
        "id": "QNNVUqAAGf46"
      },
      "source": [
        "Fonction d'evaluation"
      ]
    },
    {
      "cell_type": "code",
      "execution_count": null,
      "metadata": {
        "id": "7HtyazGdGfWd"
      },
      "outputs": [],
      "source": [
        "def roc_auc(predictions,target):\n",
        "    '''\n",
        "    This methods returns the AUC Score when given the Predictions\n",
        "    and Labels\n",
        "    '''\n",
        "\n",
        "    fpr, tpr, thresholds = metrics.roc_curve(target, predictions)\n",
        "    roc_auc = metrics.auc(fpr, tpr)\n",
        "    return roc_auc"
      ]
    },
    {
      "cell_type": "code",
      "execution_count": null,
      "metadata": {
        "id": "1D2uflD6IsRs"
      },
      "outputs": [],
      "source": [
        "scores_model = []"
      ]
    },
    {
      "cell_type": "markdown",
      "metadata": {
        "id": "NTnWugO7JAYq"
      },
      "source": [
        "### Preprocessing\n",
        "\n",
        "For this version of Notebook we will be using TPU's as we have to built a BERT Model"
      ]
    },
    {
      "cell_type": "code",
      "execution_count": null,
      "metadata": {
        "colab": {
          "base_uri": "https://localhost:8080/"
        },
        "id": "520bgeVWKbLP",
        "outputId": "88f5e70f-f9b5-4952-b124-069ea0a01f6c"
      },
      "outputs": [
        {
          "name": "stdout",
          "output_type": "stream",
          "text": [
            "Mounted at /content/gdrive\n"
          ]
        }
      ],
      "source": [
        "from google.colab import drive\n",
        "drive.mount('/content/gdrive', force_remount=True)"
      ]
    },
    {
      "cell_type": "markdown",
      "metadata": {
        "id": "92jAPDWk11wx"
      },
      "source": [
        "Télécharger les données"
      ]
    },
    {
      "cell_type": "code",
      "execution_count": null,
      "metadata": {
        "id": "5nb3S1XaFqSW"
      },
      "outputs": [],
      "source": [
        "# LOADING THE DATA\n",
        "#data_dir_path = 'data/jigsaw-toxic'\n",
        "data_dir_path = '/content/gdrive/MyDrive/machine_learning/nlp_project/dataset'\n",
        "# dataframe\n",
        "data = pd.read_csv(data_dir_path+\"/jigsaw-toxic-comment-train.csv\")\n",
        "#valid = pd.read_csv(data_dir_path+'/validation.csv')\n",
        "#test = pd.read_csv(data_dir_path+'/test.csv')\n",
        "#sub = pd.read_csv(data_dir_path+'/sample_submission.csv')"
      ]
    },
    {
      "cell_type": "code",
      "execution_count": null,
      "metadata": {
        "colab": {
          "base_uri": "https://localhost:8080/"
        },
        "id": "glBNxiQA2DFv",
        "outputId": "df52f50f-f149-4f1d-aa3e-21c64b471635"
      },
      "outputs": [
        {
          "name": "stdout",
          "output_type": "stream",
          "text": [
            "train data :  (223549, 8)\n"
          ]
        }
      ],
      "source": [
        "print(\"train data : \", data.shape)"
      ]
    },
    {
      "cell_type": "markdown",
      "metadata": {
        "id": "qYf0NTfYENkD"
      },
      "source": [
        "truncate data, to reduce the size"
      ]
    },
    {
      "cell_type": "code",
      "execution_count": null,
      "metadata": {
        "id": "6yBkyKfzCdQi"
      },
      "outputs": [],
      "source": [
        "#data = data.loc[:10000, :]\n",
        "#data.shape"
      ]
    },
    {
      "cell_type": "code",
      "execution_count": null,
      "metadata": {
        "colab": {
          "base_uri": "https://localhost:8080/"
        },
        "id": "icuQ9luKCdGc",
        "outputId": "61ce9c1e-a124-480d-d1d4-b3116e482578"
      },
      "outputs": [
        {
          "name": "stdout",
          "output_type": "stream",
          "text": [
            "train data :  (223549, 8)\n"
          ]
        }
      ],
      "source": [
        "print(\"train data : \", data.shape)"
      ]
    },
    {
      "cell_type": "code",
      "execution_count": null,
      "metadata": {
        "colab": {
          "base_uri": "https://localhost:8080/"
        },
        "id": "YjqKQq377wrN",
        "outputId": "26ef3019-7c33-4770-d415-5ed2647091f9"
      },
      "outputs": [
        {
          "name": "stdout",
          "output_type": "stream",
          "text": [
            "train data attributes :  Index(['id', 'comment_text', 'toxic', 'severe_toxic', 'obscene', 'threat',\n",
            "       'insult', 'identity_hate'],\n",
            "      dtype='object')\n"
          ]
        }
      ],
      "source": [
        "print(\"train data attributes : \", data.columns)"
      ]
    },
    {
      "cell_type": "code",
      "execution_count": null,
      "metadata": {
        "colab": {
          "base_uri": "https://localhost:8080/",
          "height": 363
        },
        "id": "kgUL1EAo6M6p",
        "outputId": "026e9a2e-9b71-4b40-ef35-33712ded2668"
      },
      "outputs": [
        {
          "data": {
            "application/vnd.google.colaboratory.intrinsic+json": {
              "type": "dataframe",
              "variable_name": "data"
            },
            "text/html": [
              "\n",
              "  <div id=\"df-df18335a-156c-421d-b0b8-8703f383a3a4\" class=\"colab-df-container\">\n",
              "    <div>\n",
              "<style scoped>\n",
              "    .dataframe tbody tr th:only-of-type {\n",
              "        vertical-align: middle;\n",
              "    }\n",
              "\n",
              "    .dataframe tbody tr th {\n",
              "        vertical-align: top;\n",
              "    }\n",
              "\n",
              "    .dataframe thead th {\n",
              "        text-align: right;\n",
              "    }\n",
              "</style>\n",
              "<table border=\"1\" class=\"dataframe\">\n",
              "  <thead>\n",
              "    <tr style=\"text-align: right;\">\n",
              "      <th></th>\n",
              "      <th>id</th>\n",
              "      <th>comment_text</th>\n",
              "      <th>toxic</th>\n",
              "      <th>severe_toxic</th>\n",
              "      <th>obscene</th>\n",
              "      <th>threat</th>\n",
              "      <th>insult</th>\n",
              "      <th>identity_hate</th>\n",
              "    </tr>\n",
              "  </thead>\n",
              "  <tbody>\n",
              "    <tr>\n",
              "      <th>0</th>\n",
              "      <td>0000997932d777bf</td>\n",
              "      <td>Explanation\\nWhy the edits made under my usern...</td>\n",
              "      <td>0</td>\n",
              "      <td>0</td>\n",
              "      <td>0</td>\n",
              "      <td>0</td>\n",
              "      <td>0</td>\n",
              "      <td>0</td>\n",
              "    </tr>\n",
              "    <tr>\n",
              "      <th>1</th>\n",
              "      <td>000103f0d9cfb60f</td>\n",
              "      <td>D'aww! He matches this background colour I'm s...</td>\n",
              "      <td>0</td>\n",
              "      <td>0</td>\n",
              "      <td>0</td>\n",
              "      <td>0</td>\n",
              "      <td>0</td>\n",
              "      <td>0</td>\n",
              "    </tr>\n",
              "    <tr>\n",
              "      <th>2</th>\n",
              "      <td>000113f07ec002fd</td>\n",
              "      <td>Hey man, I'm really not trying to edit war. It...</td>\n",
              "      <td>0</td>\n",
              "      <td>0</td>\n",
              "      <td>0</td>\n",
              "      <td>0</td>\n",
              "      <td>0</td>\n",
              "      <td>0</td>\n",
              "    </tr>\n",
              "    <tr>\n",
              "      <th>3</th>\n",
              "      <td>0001b41b1c6bb37e</td>\n",
              "      <td>\"\\nMore\\nI can't make any real suggestions on ...</td>\n",
              "      <td>0</td>\n",
              "      <td>0</td>\n",
              "      <td>0</td>\n",
              "      <td>0</td>\n",
              "      <td>0</td>\n",
              "      <td>0</td>\n",
              "    </tr>\n",
              "    <tr>\n",
              "      <th>4</th>\n",
              "      <td>0001d958c54c6e35</td>\n",
              "      <td>You, sir, are my hero. Any chance you remember...</td>\n",
              "      <td>0</td>\n",
              "      <td>0</td>\n",
              "      <td>0</td>\n",
              "      <td>0</td>\n",
              "      <td>0</td>\n",
              "      <td>0</td>\n",
              "    </tr>\n",
              "    <tr>\n",
              "      <th>5</th>\n",
              "      <td>00025465d4725e87</td>\n",
              "      <td>\"\\n\\nCongratulations from me as well, use the ...</td>\n",
              "      <td>0</td>\n",
              "      <td>0</td>\n",
              "      <td>0</td>\n",
              "      <td>0</td>\n",
              "      <td>0</td>\n",
              "      <td>0</td>\n",
              "    </tr>\n",
              "    <tr>\n",
              "      <th>6</th>\n",
              "      <td>0002bcb3da6cb337</td>\n",
              "      <td>COCKSUCKER BEFORE YOU PISS AROUND ON MY WORK</td>\n",
              "      <td>1</td>\n",
              "      <td>1</td>\n",
              "      <td>1</td>\n",
              "      <td>0</td>\n",
              "      <td>1</td>\n",
              "      <td>0</td>\n",
              "    </tr>\n",
              "    <tr>\n",
              "      <th>7</th>\n",
              "      <td>00031b1e95af7921</td>\n",
              "      <td>Your vandalism to the Matt Shirvington article...</td>\n",
              "      <td>0</td>\n",
              "      <td>0</td>\n",
              "      <td>0</td>\n",
              "      <td>0</td>\n",
              "      <td>0</td>\n",
              "      <td>0</td>\n",
              "    </tr>\n",
              "    <tr>\n",
              "      <th>8</th>\n",
              "      <td>00037261f536c51d</td>\n",
              "      <td>Sorry if the word 'nonsense' was offensive to ...</td>\n",
              "      <td>0</td>\n",
              "      <td>0</td>\n",
              "      <td>0</td>\n",
              "      <td>0</td>\n",
              "      <td>0</td>\n",
              "      <td>0</td>\n",
              "    </tr>\n",
              "    <tr>\n",
              "      <th>9</th>\n",
              "      <td>00040093b2687caa</td>\n",
              "      <td>alignment on this subject and which are contra...</td>\n",
              "      <td>0</td>\n",
              "      <td>0</td>\n",
              "      <td>0</td>\n",
              "      <td>0</td>\n",
              "      <td>0</td>\n",
              "      <td>0</td>\n",
              "    </tr>\n",
              "  </tbody>\n",
              "</table>\n",
              "</div>\n",
              "    <div class=\"colab-df-buttons\">\n",
              "\n",
              "  <div class=\"colab-df-container\">\n",
              "    <button class=\"colab-df-convert\" onclick=\"convertToInteractive('df-df18335a-156c-421d-b0b8-8703f383a3a4')\"\n",
              "            title=\"Convert this dataframe to an interactive table.\"\n",
              "            style=\"display:none;\">\n",
              "\n",
              "  <svg xmlns=\"http://www.w3.org/2000/svg\" height=\"24px\" viewBox=\"0 -960 960 960\">\n",
              "    <path d=\"M120-120v-720h720v720H120Zm60-500h600v-160H180v160Zm220 220h160v-160H400v160Zm0 220h160v-160H400v160ZM180-400h160v-160H180v160Zm440 0h160v-160H620v160ZM180-180h160v-160H180v160Zm440 0h160v-160H620v160Z\"/>\n",
              "  </svg>\n",
              "    </button>\n",
              "\n",
              "  <style>\n",
              "    .colab-df-container {\n",
              "      display:flex;\n",
              "      gap: 12px;\n",
              "    }\n",
              "\n",
              "    .colab-df-convert {\n",
              "      background-color: #E8F0FE;\n",
              "      border: none;\n",
              "      border-radius: 50%;\n",
              "      cursor: pointer;\n",
              "      display: none;\n",
              "      fill: #1967D2;\n",
              "      height: 32px;\n",
              "      padding: 0 0 0 0;\n",
              "      width: 32px;\n",
              "    }\n",
              "\n",
              "    .colab-df-convert:hover {\n",
              "      background-color: #E2EBFA;\n",
              "      box-shadow: 0px 1px 2px rgba(60, 64, 67, 0.3), 0px 1px 3px 1px rgba(60, 64, 67, 0.15);\n",
              "      fill: #174EA6;\n",
              "    }\n",
              "\n",
              "    .colab-df-buttons div {\n",
              "      margin-bottom: 4px;\n",
              "    }\n",
              "\n",
              "    [theme=dark] .colab-df-convert {\n",
              "      background-color: #3B4455;\n",
              "      fill: #D2E3FC;\n",
              "    }\n",
              "\n",
              "    [theme=dark] .colab-df-convert:hover {\n",
              "      background-color: #434B5C;\n",
              "      box-shadow: 0px 1px 3px 1px rgba(0, 0, 0, 0.15);\n",
              "      filter: drop-shadow(0px 1px 2px rgba(0, 0, 0, 0.3));\n",
              "      fill: #FFFFFF;\n",
              "    }\n",
              "  </style>\n",
              "\n",
              "    <script>\n",
              "      const buttonEl =\n",
              "        document.querySelector('#df-df18335a-156c-421d-b0b8-8703f383a3a4 button.colab-df-convert');\n",
              "      buttonEl.style.display =\n",
              "        google.colab.kernel.accessAllowed ? 'block' : 'none';\n",
              "\n",
              "      async function convertToInteractive(key) {\n",
              "        const element = document.querySelector('#df-df18335a-156c-421d-b0b8-8703f383a3a4');\n",
              "        const dataTable =\n",
              "          await google.colab.kernel.invokeFunction('convertToInteractive',\n",
              "                                                    [key], {});\n",
              "        if (!dataTable) return;\n",
              "\n",
              "        const docLinkHtml = 'Like what you see? Visit the ' +\n",
              "          '<a target=\"_blank\" href=https://colab.research.google.com/notebooks/data_table.ipynb>data table notebook</a>'\n",
              "          + ' to learn more about interactive tables.';\n",
              "        element.innerHTML = '';\n",
              "        dataTable['output_type'] = 'display_data';\n",
              "        await google.colab.output.renderOutput(dataTable, element);\n",
              "        const docLink = document.createElement('div');\n",
              "        docLink.innerHTML = docLinkHtml;\n",
              "        element.appendChild(docLink);\n",
              "      }\n",
              "    </script>\n",
              "  </div>\n",
              "\n",
              "\n",
              "<div id=\"df-bfa8a9da-d4d0-4364-a494-386ad65676da\">\n",
              "  <button class=\"colab-df-quickchart\" onclick=\"quickchart('df-bfa8a9da-d4d0-4364-a494-386ad65676da')\"\n",
              "            title=\"Suggest charts\"\n",
              "            style=\"display:none;\">\n",
              "\n",
              "<svg xmlns=\"http://www.w3.org/2000/svg\" height=\"24px\"viewBox=\"0 0 24 24\"\n",
              "     width=\"24px\">\n",
              "    <g>\n",
              "        <path d=\"M19 3H5c-1.1 0-2 .9-2 2v14c0 1.1.9 2 2 2h14c1.1 0 2-.9 2-2V5c0-1.1-.9-2-2-2zM9 17H7v-7h2v7zm4 0h-2V7h2v10zm4 0h-2v-4h2v4z\"/>\n",
              "    </g>\n",
              "</svg>\n",
              "  </button>\n",
              "\n",
              "<style>\n",
              "  .colab-df-quickchart {\n",
              "      --bg-color: #E8F0FE;\n",
              "      --fill-color: #1967D2;\n",
              "      --hover-bg-color: #E2EBFA;\n",
              "      --hover-fill-color: #174EA6;\n",
              "      --disabled-fill-color: #AAA;\n",
              "      --disabled-bg-color: #DDD;\n",
              "  }\n",
              "\n",
              "  [theme=dark] .colab-df-quickchart {\n",
              "      --bg-color: #3B4455;\n",
              "      --fill-color: #D2E3FC;\n",
              "      --hover-bg-color: #434B5C;\n",
              "      --hover-fill-color: #FFFFFF;\n",
              "      --disabled-bg-color: #3B4455;\n",
              "      --disabled-fill-color: #666;\n",
              "  }\n",
              "\n",
              "  .colab-df-quickchart {\n",
              "    background-color: var(--bg-color);\n",
              "    border: none;\n",
              "    border-radius: 50%;\n",
              "    cursor: pointer;\n",
              "    display: none;\n",
              "    fill: var(--fill-color);\n",
              "    height: 32px;\n",
              "    padding: 0;\n",
              "    width: 32px;\n",
              "  }\n",
              "\n",
              "  .colab-df-quickchart:hover {\n",
              "    background-color: var(--hover-bg-color);\n",
              "    box-shadow: 0 1px 2px rgba(60, 64, 67, 0.3), 0 1px 3px 1px rgba(60, 64, 67, 0.15);\n",
              "    fill: var(--button-hover-fill-color);\n",
              "  }\n",
              "\n",
              "  .colab-df-quickchart-complete:disabled,\n",
              "  .colab-df-quickchart-complete:disabled:hover {\n",
              "    background-color: var(--disabled-bg-color);\n",
              "    fill: var(--disabled-fill-color);\n",
              "    box-shadow: none;\n",
              "  }\n",
              "\n",
              "  .colab-df-spinner {\n",
              "    border: 2px solid var(--fill-color);\n",
              "    border-color: transparent;\n",
              "    border-bottom-color: var(--fill-color);\n",
              "    animation:\n",
              "      spin 1s steps(1) infinite;\n",
              "  }\n",
              "\n",
              "  @keyframes spin {\n",
              "    0% {\n",
              "      border-color: transparent;\n",
              "      border-bottom-color: var(--fill-color);\n",
              "      border-left-color: var(--fill-color);\n",
              "    }\n",
              "    20% {\n",
              "      border-color: transparent;\n",
              "      border-left-color: var(--fill-color);\n",
              "      border-top-color: var(--fill-color);\n",
              "    }\n",
              "    30% {\n",
              "      border-color: transparent;\n",
              "      border-left-color: var(--fill-color);\n",
              "      border-top-color: var(--fill-color);\n",
              "      border-right-color: var(--fill-color);\n",
              "    }\n",
              "    40% {\n",
              "      border-color: transparent;\n",
              "      border-right-color: var(--fill-color);\n",
              "      border-top-color: var(--fill-color);\n",
              "    }\n",
              "    60% {\n",
              "      border-color: transparent;\n",
              "      border-right-color: var(--fill-color);\n",
              "    }\n",
              "    80% {\n",
              "      border-color: transparent;\n",
              "      border-right-color: var(--fill-color);\n",
              "      border-bottom-color: var(--fill-color);\n",
              "    }\n",
              "    90% {\n",
              "      border-color: transparent;\n",
              "      border-bottom-color: var(--fill-color);\n",
              "    }\n",
              "  }\n",
              "</style>\n",
              "\n",
              "  <script>\n",
              "    async function quickchart(key) {\n",
              "      const quickchartButtonEl =\n",
              "        document.querySelector('#' + key + ' button');\n",
              "      quickchartButtonEl.disabled = true;  // To prevent multiple clicks.\n",
              "      quickchartButtonEl.classList.add('colab-df-spinner');\n",
              "      try {\n",
              "        const charts = await google.colab.kernel.invokeFunction(\n",
              "            'suggestCharts', [key], {});\n",
              "      } catch (error) {\n",
              "        console.error('Error during call to suggestCharts:', error);\n",
              "      }\n",
              "      quickchartButtonEl.classList.remove('colab-df-spinner');\n",
              "      quickchartButtonEl.classList.add('colab-df-quickchart-complete');\n",
              "    }\n",
              "    (() => {\n",
              "      let quickchartButtonEl =\n",
              "        document.querySelector('#df-bfa8a9da-d4d0-4364-a494-386ad65676da button');\n",
              "      quickchartButtonEl.style.display =\n",
              "        google.colab.kernel.accessAllowed ? 'block' : 'none';\n",
              "    })();\n",
              "  </script>\n",
              "</div>\n",
              "\n",
              "    </div>\n",
              "  </div>\n"
            ],
            "text/plain": [
              "                 id                                       comment_text  toxic  \\\n",
              "0  0000997932d777bf  Explanation\\nWhy the edits made under my usern...      0   \n",
              "1  000103f0d9cfb60f  D'aww! He matches this background colour I'm s...      0   \n",
              "2  000113f07ec002fd  Hey man, I'm really not trying to edit war. It...      0   \n",
              "3  0001b41b1c6bb37e  \"\\nMore\\nI can't make any real suggestions on ...      0   \n",
              "4  0001d958c54c6e35  You, sir, are my hero. Any chance you remember...      0   \n",
              "5  00025465d4725e87  \"\\n\\nCongratulations from me as well, use the ...      0   \n",
              "6  0002bcb3da6cb337       COCKSUCKER BEFORE YOU PISS AROUND ON MY WORK      1   \n",
              "7  00031b1e95af7921  Your vandalism to the Matt Shirvington article...      0   \n",
              "8  00037261f536c51d  Sorry if the word 'nonsense' was offensive to ...      0   \n",
              "9  00040093b2687caa  alignment on this subject and which are contra...      0   \n",
              "\n",
              "   severe_toxic  obscene  threat  insult  identity_hate  \n",
              "0             0        0       0       0              0  \n",
              "1             0        0       0       0              0  \n",
              "2             0        0       0       0              0  \n",
              "3             0        0       0       0              0  \n",
              "4             0        0       0       0              0  \n",
              "5             0        0       0       0              0  \n",
              "6             1        1       0       1              0  \n",
              "7             0        0       0       0              0  \n",
              "8             0        0       0       0              0  \n",
              "9             0        0       0       0              0  "
            ]
          },
          "execution_count": 11,
          "metadata": {},
          "output_type": "execute_result"
        }
      ],
      "source": [
        "data.head(10)"
      ]
    },
    {
      "cell_type": "code",
      "execution_count": null,
      "metadata": {
        "colab": {
          "base_uri": "https://localhost:8080/"
        },
        "id": "Y-r6_GP--Ndc",
        "outputId": "c62b7880-1577-4892-c0ef-5fd02348d1e8"
      },
      "outputs": [
        {
          "data": {
            "text/plain": [
              "0    202165\n",
              "1     21384\n",
              "Name: toxic, dtype: int64"
            ]
          },
          "execution_count": 12,
          "metadata": {},
          "output_type": "execute_result"
        }
      ],
      "source": [
        "toxic_value_counts = data['toxic'].value_counts()\n",
        "toxic_value_counts"
      ]
    },
    {
      "cell_type": "code",
      "execution_count": null,
      "metadata": {
        "colab": {
          "base_uri": "https://localhost:8080/"
        },
        "id": "CEkjXEkl-ZgC",
        "outputId": "aebba7ae-e265-4894-9cf7-8ff5bd3f401e"
      },
      "outputs": [
        {
          "data": {
            "text/plain": [
              "0    212245\n",
              "1     11304\n",
              "Name: insult, dtype: int64"
            ]
          },
          "execution_count": 13,
          "metadata": {},
          "output_type": "execute_result"
        }
      ],
      "source": [
        "insult_value_counts = data['insult'].value_counts()\n",
        "insult_value_counts"
      ]
    },
    {
      "cell_type": "markdown",
      "metadata": {
        "id": "xAt7gJVvIXw2"
      },
      "source": [
        "### Equilibrer les données\n",
        "Les données sont de balancé il y plus d'exemple sain que de toxic cela pourrait potentielement biaiser le resultat."
      ]
    },
    {
      "cell_type": "code",
      "execution_count": null,
      "metadata": {
        "colab": {
          "base_uri": "https://localhost:8080/"
        },
        "id": "nHqvZGdqIXgi",
        "outputId": "d55dc3f3-2a83-4d8f-ab71-2df292d7953b"
      },
      "outputs": [
        {
          "name": "stdout",
          "output_type": "stream",
          "text": [
            "train data :  (223549, 8)\n"
          ]
        }
      ],
      "source": [
        "print(\"train data : \", data.shape)"
      ]
    },
    {
      "cell_type": "code",
      "execution_count": null,
      "metadata": {
        "id": "IgPJRVlUIXdi"
      },
      "outputs": [],
      "source": [
        "# Séparer les exemples de la classe majoritaire (toxic=0) et de la classe minoritaire (toxic=1)\n",
        "data_majority = data[data['toxic'] == 0]\n",
        "data_minority = data[data['toxic'] == 1]\n",
        "\n",
        "# Sous-échantillonnage des exemples de la classe majoritaire pour équilibrer les classes\n",
        "data_majority_downsampled = data_majority.sample(n=len(data_minority), random_state=42)\n",
        "\n",
        "# Concaténer les données sous-échantillonnées de la classe majoritaire avec les données de la classe minoritaire\n",
        "balanced_data = pd.concat([data_majority_downsampled, data_minority])\n",
        "\n",
        "# Mélanger les données pour mélanger les classes\n",
        "balanced_data = balanced_data.sample(frac=1, random_state=42)\n"
      ]
    },
    {
      "cell_type": "markdown",
      "metadata": {
        "id": "2fgq4d7qLmbq"
      },
      "source": [
        "#### Afficher la nouvelle répartition des classes"
      ]
    },
    {
      "cell_type": "code",
      "execution_count": null,
      "metadata": {
        "colab": {
          "base_uri": "https://localhost:8080/"
        },
        "id": "QQSO4QwELHsz",
        "outputId": "309f27f7-1964-4a37-b073-3e0a93e38654"
      },
      "outputs": [
        {
          "name": "stdout",
          "output_type": "stream",
          "text": [
            "train data :  (42768, 8)\n"
          ]
        }
      ],
      "source": [
        "data = balanced_data\n",
        "print(\"train data : \", data.shape)"
      ]
    },
    {
      "cell_type": "code",
      "execution_count": null,
      "metadata": {
        "id": "CNmIcJOiuY0s"
      },
      "outputs": [],
      "source": [
        "#data = data.loc[:10000, :]\n",
        "#data.shape"
      ]
    },
    {
      "cell_type": "code",
      "execution_count": null,
      "metadata": {
        "colab": {
          "base_uri": "https://localhost:8080/",
          "height": 206
        },
        "id": "X3Hi7czILsSH",
        "outputId": "516a9f1f-22f9-4d8c-bed3-90f041c3d3cd"
      },
      "outputs": [
        {
          "data": {
            "application/vnd.google.colaboratory.intrinsic+json": {
              "summary": "{\n  \"name\": \"data\",\n  \"rows\": 42768,\n  \"fields\": [\n    {\n      \"column\": \"id\",\n      \"properties\": {\n        \"dtype\": \"string\",\n        \"num_unique_values\": 42768,\n        \"samples\": [\n          \"657c62f7ae8193ee\",\n          \"296b6563d86077db\",\n          \"3c04a01e6498af50\"\n        ],\n        \"semantic_type\": \"\",\n        \"description\": \"\"\n      }\n    },\n    {\n      \"column\": \"comment_text\",\n      \"properties\": {\n        \"dtype\": \"string\",\n        \"num_unique_values\": 42768,\n        \"samples\": [\n          \"Yes whats wrong with that? Whitmore 8621\",\n          \"\\\"\\nCan you start a new thread so I don't have to go back between both of you and point out what's wrong with your respective arguments? Furthermore, are you referring to paper audit trails counted only upon a recount or paper ballots that are actually counted?  And for the billionth time, not only is there no proof that any electronic election has been tampered with, there can't be any evidence because electronic voting machines have little to none auditing mechanisms and serious security flaws.  Thus, there isn't any evidence that any electronic evidence was conducted without any manipulation.  This is what paper trails help to accomplish, and is far from a \\\"\\\"Democratic talking point,\\\"\\\" it's just common sense.  \\\"\",\n          \"Sup, sucky sucky five dollar? Asian infidel will die too\"\n        ],\n        \"semantic_type\": \"\",\n        \"description\": \"\"\n      }\n    },\n    {\n      \"column\": \"toxic\",\n      \"properties\": {\n        \"dtype\": \"number\",\n        \"std\": 0,\n        \"min\": 0,\n        \"max\": 1,\n        \"num_unique_values\": 2,\n        \"samples\": [\n          0,\n          1\n        ],\n        \"semantic_type\": \"\",\n        \"description\": \"\"\n      }\n    },\n    {\n      \"column\": \"severe_toxic\",\n      \"properties\": {\n        \"dtype\": \"number\",\n        \"std\": 0,\n        \"min\": 0,\n        \"max\": 1,\n        \"num_unique_values\": 2,\n        \"samples\": [\n          1,\n          0\n        ],\n        \"semantic_type\": \"\",\n        \"description\": \"\"\n      }\n    },\n    {\n      \"column\": \"obscene\",\n      \"properties\": {\n        \"dtype\": \"number\",\n        \"std\": 0,\n        \"min\": 0,\n        \"max\": 1,\n        \"num_unique_values\": 2,\n        \"samples\": [\n          1,\n          0\n        ],\n        \"semantic_type\": \"\",\n        \"description\": \"\"\n      }\n    },\n    {\n      \"column\": \"threat\",\n      \"properties\": {\n        \"dtype\": \"number\",\n        \"std\": 0,\n        \"min\": 0,\n        \"max\": 1,\n        \"num_unique_values\": 2,\n        \"samples\": [\n          1,\n          0\n        ],\n        \"semantic_type\": \"\",\n        \"description\": \"\"\n      }\n    },\n    {\n      \"column\": \"insult\",\n      \"properties\": {\n        \"dtype\": \"number\",\n        \"std\": 0,\n        \"min\": 0,\n        \"max\": 1,\n        \"num_unique_values\": 2,\n        \"samples\": [\n          1,\n          0\n        ],\n        \"semantic_type\": \"\",\n        \"description\": \"\"\n      }\n    },\n    {\n      \"column\": \"identity_hate\",\n      \"properties\": {\n        \"dtype\": \"number\",\n        \"std\": 0,\n        \"min\": 0,\n        \"max\": 1,\n        \"num_unique_values\": 2,\n        \"samples\": [\n          1,\n          0\n        ],\n        \"semantic_type\": \"\",\n        \"description\": \"\"\n      }\n    }\n  ]\n}",
              "type": "dataframe",
              "variable_name": "data"
            },
            "text/html": [
              "\n",
              "  <div id=\"df-c1d63cb6-f137-4d32-a986-f89883b9d66f\" class=\"colab-df-container\">\n",
              "    <div>\n",
              "<style scoped>\n",
              "    .dataframe tbody tr th:only-of-type {\n",
              "        vertical-align: middle;\n",
              "    }\n",
              "\n",
              "    .dataframe tbody tr th {\n",
              "        vertical-align: top;\n",
              "    }\n",
              "\n",
              "    .dataframe thead th {\n",
              "        text-align: right;\n",
              "    }\n",
              "</style>\n",
              "<table border=\"1\" class=\"dataframe\">\n",
              "  <thead>\n",
              "    <tr style=\"text-align: right;\">\n",
              "      <th></th>\n",
              "      <th>id</th>\n",
              "      <th>comment_text</th>\n",
              "      <th>toxic</th>\n",
              "      <th>severe_toxic</th>\n",
              "      <th>obscene</th>\n",
              "      <th>threat</th>\n",
              "      <th>insult</th>\n",
              "      <th>identity_hate</th>\n",
              "    </tr>\n",
              "  </thead>\n",
              "  <tbody>\n",
              "    <tr>\n",
              "      <th>175901</th>\n",
              "      <td>40e2f5e2b95bd27e</td>\n",
              "      <td>Another idiotic page - Peanut Butter and Shea ...</td>\n",
              "      <td>1</td>\n",
              "      <td>0</td>\n",
              "      <td>0</td>\n",
              "      <td>0</td>\n",
              "      <td>0</td>\n",
              "      <td>0</td>\n",
              "    </tr>\n",
              "    <tr>\n",
              "      <th>211573</th>\n",
              "      <td>cf7d3f1fc82f0be1</td>\n",
              "      <td>fUCK YOU YOU FUCKIN RETARD</td>\n",
              "      <td>1</td>\n",
              "      <td>0</td>\n",
              "      <td>1</td>\n",
              "      <td>0</td>\n",
              "      <td>1</td>\n",
              "      <td>0</td>\n",
              "    </tr>\n",
              "    <tr>\n",
              "      <th>144860</th>\n",
              "      <td>1392cbece674f0d3</td>\n",
              "      <td>safavi \\n\\nHi\\n\\nI was just wondering what do ...</td>\n",
              "      <td>0</td>\n",
              "      <td>0</td>\n",
              "      <td>0</td>\n",
              "      <td>0</td>\n",
              "      <td>0</td>\n",
              "      <td>0</td>\n",
              "    </tr>\n",
              "    <tr>\n",
              "      <th>198298</th>\n",
              "      <td>9a6632345828986a</td>\n",
              "      <td>\" \\n\\n :I've found some mentions that don't ma...</td>\n",
              "      <td>0</td>\n",
              "      <td>0</td>\n",
              "      <td>0</td>\n",
              "      <td>0</td>\n",
              "      <td>0</td>\n",
              "      <td>0</td>\n",
              "    </tr>\n",
              "    <tr>\n",
              "      <th>167488</th>\n",
              "      <td>1fefde2851d734b9</td>\n",
              "      <td>::::::The  is protected from editing. But alri...</td>\n",
              "      <td>1</td>\n",
              "      <td>0</td>\n",
              "      <td>0</td>\n",
              "      <td>0</td>\n",
              "      <td>0</td>\n",
              "      <td>0</td>\n",
              "    </tr>\n",
              "  </tbody>\n",
              "</table>\n",
              "</div>\n",
              "    <div class=\"colab-df-buttons\">\n",
              "\n",
              "  <div class=\"colab-df-container\">\n",
              "    <button class=\"colab-df-convert\" onclick=\"convertToInteractive('df-c1d63cb6-f137-4d32-a986-f89883b9d66f')\"\n",
              "            title=\"Convert this dataframe to an interactive table.\"\n",
              "            style=\"display:none;\">\n",
              "\n",
              "  <svg xmlns=\"http://www.w3.org/2000/svg\" height=\"24px\" viewBox=\"0 -960 960 960\">\n",
              "    <path d=\"M120-120v-720h720v720H120Zm60-500h600v-160H180v160Zm220 220h160v-160H400v160Zm0 220h160v-160H400v160ZM180-400h160v-160H180v160Zm440 0h160v-160H620v160ZM180-180h160v-160H180v160Zm440 0h160v-160H620v160Z\"/>\n",
              "  </svg>\n",
              "    </button>\n",
              "\n",
              "  <style>\n",
              "    .colab-df-container {\n",
              "      display:flex;\n",
              "      gap: 12px;\n",
              "    }\n",
              "\n",
              "    .colab-df-convert {\n",
              "      background-color: #E8F0FE;\n",
              "      border: none;\n",
              "      border-radius: 50%;\n",
              "      cursor: pointer;\n",
              "      display: none;\n",
              "      fill: #1967D2;\n",
              "      height: 32px;\n",
              "      padding: 0 0 0 0;\n",
              "      width: 32px;\n",
              "    }\n",
              "\n",
              "    .colab-df-convert:hover {\n",
              "      background-color: #E2EBFA;\n",
              "      box-shadow: 0px 1px 2px rgba(60, 64, 67, 0.3), 0px 1px 3px 1px rgba(60, 64, 67, 0.15);\n",
              "      fill: #174EA6;\n",
              "    }\n",
              "\n",
              "    .colab-df-buttons div {\n",
              "      margin-bottom: 4px;\n",
              "    }\n",
              "\n",
              "    [theme=dark] .colab-df-convert {\n",
              "      background-color: #3B4455;\n",
              "      fill: #D2E3FC;\n",
              "    }\n",
              "\n",
              "    [theme=dark] .colab-df-convert:hover {\n",
              "      background-color: #434B5C;\n",
              "      box-shadow: 0px 1px 3px 1px rgba(0, 0, 0, 0.15);\n",
              "      filter: drop-shadow(0px 1px 2px rgba(0, 0, 0, 0.3));\n",
              "      fill: #FFFFFF;\n",
              "    }\n",
              "  </style>\n",
              "\n",
              "    <script>\n",
              "      const buttonEl =\n",
              "        document.querySelector('#df-c1d63cb6-f137-4d32-a986-f89883b9d66f button.colab-df-convert');\n",
              "      buttonEl.style.display =\n",
              "        google.colab.kernel.accessAllowed ? 'block' : 'none';\n",
              "\n",
              "      async function convertToInteractive(key) {\n",
              "        const element = document.querySelector('#df-c1d63cb6-f137-4d32-a986-f89883b9d66f');\n",
              "        const dataTable =\n",
              "          await google.colab.kernel.invokeFunction('convertToInteractive',\n",
              "                                                    [key], {});\n",
              "        if (!dataTable) return;\n",
              "\n",
              "        const docLinkHtml = 'Like what you see? Visit the ' +\n",
              "          '<a target=\"_blank\" href=https://colab.research.google.com/notebooks/data_table.ipynb>data table notebook</a>'\n",
              "          + ' to learn more about interactive tables.';\n",
              "        element.innerHTML = '';\n",
              "        dataTable['output_type'] = 'display_data';\n",
              "        await google.colab.output.renderOutput(dataTable, element);\n",
              "        const docLink = document.createElement('div');\n",
              "        docLink.innerHTML = docLinkHtml;\n",
              "        element.appendChild(docLink);\n",
              "      }\n",
              "    </script>\n",
              "  </div>\n",
              "\n",
              "\n",
              "<div id=\"df-6a165695-6a7d-4de4-b346-db0732478614\">\n",
              "  <button class=\"colab-df-quickchart\" onclick=\"quickchart('df-6a165695-6a7d-4de4-b346-db0732478614')\"\n",
              "            title=\"Suggest charts\"\n",
              "            style=\"display:none;\">\n",
              "\n",
              "<svg xmlns=\"http://www.w3.org/2000/svg\" height=\"24px\"viewBox=\"0 0 24 24\"\n",
              "     width=\"24px\">\n",
              "    <g>\n",
              "        <path d=\"M19 3H5c-1.1 0-2 .9-2 2v14c0 1.1.9 2 2 2h14c1.1 0 2-.9 2-2V5c0-1.1-.9-2-2-2zM9 17H7v-7h2v7zm4 0h-2V7h2v10zm4 0h-2v-4h2v4z\"/>\n",
              "    </g>\n",
              "</svg>\n",
              "  </button>\n",
              "\n",
              "<style>\n",
              "  .colab-df-quickchart {\n",
              "      --bg-color: #E8F0FE;\n",
              "      --fill-color: #1967D2;\n",
              "      --hover-bg-color: #E2EBFA;\n",
              "      --hover-fill-color: #174EA6;\n",
              "      --disabled-fill-color: #AAA;\n",
              "      --disabled-bg-color: #DDD;\n",
              "  }\n",
              "\n",
              "  [theme=dark] .colab-df-quickchart {\n",
              "      --bg-color: #3B4455;\n",
              "      --fill-color: #D2E3FC;\n",
              "      --hover-bg-color: #434B5C;\n",
              "      --hover-fill-color: #FFFFFF;\n",
              "      --disabled-bg-color: #3B4455;\n",
              "      --disabled-fill-color: #666;\n",
              "  }\n",
              "\n",
              "  .colab-df-quickchart {\n",
              "    background-color: var(--bg-color);\n",
              "    border: none;\n",
              "    border-radius: 50%;\n",
              "    cursor: pointer;\n",
              "    display: none;\n",
              "    fill: var(--fill-color);\n",
              "    height: 32px;\n",
              "    padding: 0;\n",
              "    width: 32px;\n",
              "  }\n",
              "\n",
              "  .colab-df-quickchart:hover {\n",
              "    background-color: var(--hover-bg-color);\n",
              "    box-shadow: 0 1px 2px rgba(60, 64, 67, 0.3), 0 1px 3px 1px rgba(60, 64, 67, 0.15);\n",
              "    fill: var(--button-hover-fill-color);\n",
              "  }\n",
              "\n",
              "  .colab-df-quickchart-complete:disabled,\n",
              "  .colab-df-quickchart-complete:disabled:hover {\n",
              "    background-color: var(--disabled-bg-color);\n",
              "    fill: var(--disabled-fill-color);\n",
              "    box-shadow: none;\n",
              "  }\n",
              "\n",
              "  .colab-df-spinner {\n",
              "    border: 2px solid var(--fill-color);\n",
              "    border-color: transparent;\n",
              "    border-bottom-color: var(--fill-color);\n",
              "    animation:\n",
              "      spin 1s steps(1) infinite;\n",
              "  }\n",
              "\n",
              "  @keyframes spin {\n",
              "    0% {\n",
              "      border-color: transparent;\n",
              "      border-bottom-color: var(--fill-color);\n",
              "      border-left-color: var(--fill-color);\n",
              "    }\n",
              "    20% {\n",
              "      border-color: transparent;\n",
              "      border-left-color: var(--fill-color);\n",
              "      border-top-color: var(--fill-color);\n",
              "    }\n",
              "    30% {\n",
              "      border-color: transparent;\n",
              "      border-left-color: var(--fill-color);\n",
              "      border-top-color: var(--fill-color);\n",
              "      border-right-color: var(--fill-color);\n",
              "    }\n",
              "    40% {\n",
              "      border-color: transparent;\n",
              "      border-right-color: var(--fill-color);\n",
              "      border-top-color: var(--fill-color);\n",
              "    }\n",
              "    60% {\n",
              "      border-color: transparent;\n",
              "      border-right-color: var(--fill-color);\n",
              "    }\n",
              "    80% {\n",
              "      border-color: transparent;\n",
              "      border-right-color: var(--fill-color);\n",
              "      border-bottom-color: var(--fill-color);\n",
              "    }\n",
              "    90% {\n",
              "      border-color: transparent;\n",
              "      border-bottom-color: var(--fill-color);\n",
              "    }\n",
              "  }\n",
              "</style>\n",
              "\n",
              "  <script>\n",
              "    async function quickchart(key) {\n",
              "      const quickchartButtonEl =\n",
              "        document.querySelector('#' + key + ' button');\n",
              "      quickchartButtonEl.disabled = true;  // To prevent multiple clicks.\n",
              "      quickchartButtonEl.classList.add('colab-df-spinner');\n",
              "      try {\n",
              "        const charts = await google.colab.kernel.invokeFunction(\n",
              "            'suggestCharts', [key], {});\n",
              "      } catch (error) {\n",
              "        console.error('Error during call to suggestCharts:', error);\n",
              "      }\n",
              "      quickchartButtonEl.classList.remove('colab-df-spinner');\n",
              "      quickchartButtonEl.classList.add('colab-df-quickchart-complete');\n",
              "    }\n",
              "    (() => {\n",
              "      let quickchartButtonEl =\n",
              "        document.querySelector('#df-6a165695-6a7d-4de4-b346-db0732478614 button');\n",
              "      quickchartButtonEl.style.display =\n",
              "        google.colab.kernel.accessAllowed ? 'block' : 'none';\n",
              "    })();\n",
              "  </script>\n",
              "</div>\n",
              "\n",
              "    </div>\n",
              "  </div>\n"
            ],
            "text/plain": [
              "                      id                                       comment_text  \\\n",
              "175901  40e2f5e2b95bd27e  Another idiotic page - Peanut Butter and Shea ...   \n",
              "211573  cf7d3f1fc82f0be1                         fUCK YOU YOU FUCKIN RETARD   \n",
              "144860  1392cbece674f0d3  safavi \\n\\nHi\\n\\nI was just wondering what do ...   \n",
              "198298  9a6632345828986a  \" \\n\\n :I've found some mentions that don't ma...   \n",
              "167488  1fefde2851d734b9  ::::::The  is protected from editing. But alri...   \n",
              "\n",
              "        toxic  severe_toxic  obscene  threat  insult  identity_hate  \n",
              "175901      1             0        0       0       0              0  \n",
              "211573      1             0        1       0       1              0  \n",
              "144860      0             0        0       0       0              0  \n",
              "198298      0             0        0       0       0              0  \n",
              "167488      1             0        0       0       0              0  "
            ]
          },
          "execution_count": 18,
          "metadata": {},
          "output_type": "execute_result"
        }
      ],
      "source": [
        "data.head(5)"
      ]
    },
    {
      "cell_type": "code",
      "execution_count": null,
      "metadata": {
        "colab": {
          "base_uri": "https://localhost:8080/"
        },
        "id": "TFNbPRVkIXaq",
        "outputId": "51b1acf2-a47b-4cef-acc2-feb6611b8f3d"
      },
      "outputs": [
        {
          "data": {
            "text/plain": [
              "1    21384\n",
              "0    21384\n",
              "Name: toxic, dtype: int64"
            ]
          },
          "execution_count": 19,
          "metadata": {},
          "output_type": "execute_result"
        }
      ],
      "source": [
        "# Afficher la nouvelle répartition des classes\n",
        "toxic_value_counts = data['toxic'].value_counts()\n",
        "toxic_value_counts"
      ]
    },
    {
      "cell_type": "code",
      "execution_count": null,
      "metadata": {
        "colab": {
          "base_uri": "https://localhost:8080/"
        },
        "id": "PKA0RdgpK8eu",
        "outputId": "789776dd-fbd8-44a7-baea-a4890de2cc96"
      },
      "outputs": [
        {
          "data": {
            "text/plain": [
              "0    32020\n",
              "1    10748\n",
              "Name: insult, dtype: int64"
            ]
          },
          "execution_count": 20,
          "metadata": {},
          "output_type": "execute_result"
        }
      ],
      "source": [
        "insult_value_counts = data['insult'].value_counts()\n",
        "insult_value_counts"
      ]
    },
    {
      "cell_type": "code",
      "execution_count": null,
      "metadata": {
        "id": "SozmUCAm6WG1"
      },
      "outputs": [],
      "source": [
        "#X_data = data.comment_text.astype(str)\n",
        "#y_data = data.toxic.values\n",
        "\n",
        "X_data = data['comment_text'].values\n",
        "target = data[['toxic', 'insult']].values\n"
      ]
    },
    {
      "cell_type": "code",
      "execution_count": null,
      "metadata": {
        "colab": {
          "base_uri": "https://localhost:8080/"
        },
        "id": "vFM0FdKd8oMS",
        "outputId": "53552bc7-e69d-456b-c02f-2cab78490f48"
      },
      "outputs": [
        {
          "data": {
            "text/plain": [
              "array([[1, 0],\n",
              "       [1, 1],\n",
              "       [0, 0],\n",
              "       ...,\n",
              "       [1, 1],\n",
              "       [0, 0],\n",
              "       [0, 0]])"
            ]
          },
          "execution_count": 22,
          "metadata": {},
          "output_type": "execute_result"
        }
      ],
      "source": [
        "target"
      ]
    },
    {
      "cell_type": "markdown",
      "metadata": {
        "id": "EHyyBC3D7EvA"
      },
      "source": [
        "Fractionnement des l'ensemble des données : (70% Entrainement, 10% Validation, 20% Testes) | Data Splitting (70% Training, 10% Validation, 20% Testing)"
      ]
    },
    {
      "cell_type": "code",
      "execution_count": null,
      "metadata": {
        "id": "N2lKqBjk7Ck2"
      },
      "outputs": [],
      "source": [
        "d_train, d_test, t_train, t_test = model_selection.train_test_split(X_data, target, test_size=0.2, random_state=42) # Test : 20%\n",
        "d_train, d_valid, t_train, t_valid = model_selection.train_test_split(d_train, t_train, test_size=0.125, random_state=1) # Validation : 10%"
      ]
    },
    {
      "cell_type": "code",
      "execution_count": null,
      "metadata": {
        "colab": {
          "base_uri": "https://localhost:8080/"
        },
        "id": "B8dpnDef7B_M",
        "outputId": "1b207066-c885-49d4-81bd-cf7b7011a61a"
      },
      "outputs": [
        {
          "name": "stdout",
          "output_type": "stream",
          "text": [
            "train data :  (29937,)\n",
            "valid data :  (4277,)\n",
            "test data :  (8554,)\n"
          ]
        }
      ],
      "source": [
        "print(\"train data : \", d_train.shape)\n",
        "print(\"valid data : \", d_valid.shape)\n",
        "print(\"test data : \", d_test.shape)"
      ]
    },
    {
      "cell_type": "code",
      "execution_count": null,
      "metadata": {
        "colab": {
          "base_uri": "https://localhost:8080/"
        },
        "id": "9AiLR9yjFqSW",
        "outputId": "1386d3c9-43ce-40f5-cbb2-eac5784c98e2"
      },
      "outputs": [
        {
          "name": "stdout",
          "output_type": "stream",
          "text": [
            "train target :  (29937, 2)\n",
            "valid target :  (4277, 2)\n",
            "test target :  (8554, 2)\n"
          ]
        }
      ],
      "source": [
        "print(\"train target : \", t_train.shape)\n",
        "print(\"valid target : \", t_valid.shape)\n",
        "print(\"test target : \", t_test.shape)"
      ]
    },
    {
      "cell_type": "code",
      "execution_count": null,
      "metadata": {
        "id": "lCRCKMB7FqSW"
      },
      "outputs": [],
      "source": []
    },
    {
      "cell_type": "markdown",
      "metadata": {
        "id": "xFJcXvfdFqSX"
      },
      "source": [
        "Encoder For DATA for understanding what encode batch does read documentation of hugging face tokenizer :"
      ]
    },
    {
      "cell_type": "code",
      "execution_count": null,
      "metadata": {
        "id": "DlZMyt6LFqSX"
      },
      "outputs": [],
      "source": [
        "def text_encode(texts, tokenizer, chunk_size=256, maxlen=512):\n",
        "    \"\"\"\n",
        "    Encoder for encoding the text into sequence of integers for BERT Input\n",
        "    \"\"\"\n",
        "    # Set maximum length\n",
        "    tokenizer.enable_truncation(max_length=maxlen)\n",
        "\n",
        "    #tokenizer.enable_padding(max_length=maxlen)\n",
        "    # Enable padding\n",
        "    #tokenizer.enable_padding(pad_id=0, pad_token=\"[PAD]\", pad_to_multiple_of=None)\n",
        "    tokenizer.enable_padding()\n",
        "    all_ids = []\n",
        "\n",
        "    for i in tqdm(range(0, len(texts), chunk_size)):\n",
        "        text_chunk = texts[i:i+chunk_size].tolist()\n",
        "        encs = tokenizer.encode_batch(text_chunk)\n",
        "        all_ids.extend([enc.ids for enc in encs])\n",
        "\n",
        "    return np.array(all_ids)"
      ]
    },
    {
      "cell_type": "code",
      "execution_count": null,
      "metadata": {
        "id": "qXH8gVLiFqSX"
      },
      "outputs": [],
      "source": []
    },
    {
      "cell_type": "markdown",
      "metadata": {
        "id": "BAXEVknvFqSX"
      },
      "source": [
        "## Tokenization\n",
        "\n",
        "For understanding please refer to hugging face documentation again"
      ]
    },
    {
      "cell_type": "code",
      "execution_count": null,
      "metadata": {
        "colab": {
          "base_uri": "https://localhost:8080/",
          "height": 276,
          "referenced_widgets": [
            "7ca4e16d7ccd4053ad1ed5ca852a8533",
            "f580dbae44654a05ac2c7cfbe4741d47",
            "d1b9571cff4746a094387c857ae1c08a",
            "777600aadb6e449fbc895e7b5c9fdfd2",
            "fb789b8344494bba99b9887eceb0a44a",
            "48671b4eda2e40e2a724614377216ea0",
            "59de2d29ea684fd8b4855c7b2f85768c",
            "3dd7cc4a1e6d411f877083d5194a5c24",
            "8a6bfab2a2ae46c3b193ff14db99235a",
            "ab1e848f1f1742a0b086057f6650338c",
            "432b9e65c90647f982bcae6a7fc207e2",
            "bb7b36d5b8484c52bbcbea4ba5989b28",
            "183b40692e5347c4bd18d0b4d46cba76",
            "ebada9cc85964b0b81ed5e236245ca45",
            "79e0de53efec4105b103c9ca8c00d38e",
            "50efbe4a086649ecae9575799bb8bf1a",
            "7a955c8431c1420e94448d8aee25c08a",
            "1c370659e6af4459b0452d8c7c1996b2",
            "368f5f26ed48458089aa3d1fb7835728",
            "2dfffab9a404487fb8e9f1087c34dfd9",
            "5719951aff544dfbb27b1f777764c7ec",
            "98c73d4a71be4223a78c3932026d84bb",
            "032814452d074a8ba938c251d8b5b9e9",
            "d7595a313b704d75b16ce1fdede37699",
            "8f9a1404b5de4b1f802ea42eb239f52c",
            "e6412cb98562435e84d37e3e9ee2b80d",
            "4adb0d0cdd834b76b0ed00114368ebc2",
            "2c34c9889be0406792d89c455e16dfab",
            "9380bdc5d2f443f2b528261e5f297195",
            "380e1ed134f14351a2d56a1d4d44d59b",
            "75d3a7a9ed8d4f5eadd21a437a862d4c",
            "7608a3776e794a2a8497679723e7497a",
            "95a53407910a4abcab5f026037600944",
            "7df7adf54d764796b0901701d7b03983",
            "57d177c2c2254d4db9671380c70503c1",
            "30fd79261e7e46e18edd17aff7d5a4aa",
            "5bfc1d463f034021af529886fa14d909",
            "05e22ba577b345b99e8f7a6c74c5c184",
            "b3378c5154684d209af445851eeeeca8",
            "5d34149ebe0b4ac490e1b60e0db2aa57",
            "db20a25d59694a1fa5d05e74f7df3a4d",
            "dc3b06e29c8b4a908d2ddf80f95c2711",
            "7e2a70413ecb4111a47095866ce42cc2",
            "44d6f71976f846458948ca7e9fae4030"
          ]
        },
        "id": "7lETBsvAFqSX",
        "outputId": "0151f14d-1b2e-4a3e-cd2b-48ee211658f8"
      },
      "outputs": [
        {
          "name": "stderr",
          "output_type": "stream",
          "text": [
            "/usr/local/lib/python3.10/dist-packages/huggingface_hub/utils/_token.py:88: UserWarning: \n",
            "The secret `HF_TOKEN` does not exist in your Colab secrets.\n",
            "To authenticate with the Hugging Face Hub, create a token in your settings tab (https://huggingface.co/settings/tokens), set it as secret in your Google Colab and restart your session.\n",
            "You will be able to reuse this secret in all of your notebooks.\n",
            "Please note that authentication is recommended but still optional to access public models or datasets.\n",
            "  warnings.warn(\n"
          ]
        },
        {
          "data": {
            "application/vnd.jupyter.widget-view+json": {
              "model_id": "7ca4e16d7ccd4053ad1ed5ca852a8533",
              "version_major": 2,
              "version_minor": 0
            },
            "text/plain": [
              "tokenizer_config.json:   0%|          | 0.00/29.0 [00:00<?, ?B/s]"
            ]
          },
          "metadata": {},
          "output_type": "display_data"
        },
        {
          "data": {
            "application/vnd.jupyter.widget-view+json": {
              "model_id": "bb7b36d5b8484c52bbcbea4ba5989b28",
              "version_major": 2,
              "version_minor": 0
            },
            "text/plain": [
              "vocab.txt:   0%|          | 0.00/996k [00:00<?, ?B/s]"
            ]
          },
          "metadata": {},
          "output_type": "display_data"
        },
        {
          "data": {
            "application/vnd.jupyter.widget-view+json": {
              "model_id": "032814452d074a8ba938c251d8b5b9e9",
              "version_major": 2,
              "version_minor": 0
            },
            "text/plain": [
              "tokenizer.json:   0%|          | 0.00/1.96M [00:00<?, ?B/s]"
            ]
          },
          "metadata": {},
          "output_type": "display_data"
        },
        {
          "data": {
            "application/vnd.jupyter.widget-view+json": {
              "model_id": "7df7adf54d764796b0901701d7b03983",
              "version_major": 2,
              "version_minor": 0
            },
            "text/plain": [
              "config.json:   0%|          | 0.00/466 [00:00<?, ?B/s]"
            ]
          },
          "metadata": {},
          "output_type": "display_data"
        }
      ],
      "source": [
        "# First load the real tokenizer\n",
        "try:\n",
        "    tokenizer = transformers.AutoTokenizer.from_pretrained('outputs/tokenizers')\n",
        "except (OSError, ValueError):\n",
        "    tokenizer = transformers.DistilBertTokenizer.from_pretrained('distilbert-base-multilingual-cased')\n",
        "    # Save the loaded tokenizer locally\n",
        "    tokenizer.save_pretrained('outputs/tokenizers')\n"
      ]
    },
    {
      "cell_type": "code",
      "execution_count": null,
      "metadata": {
        "id": "hsd1YIIfFqSX"
      },
      "outputs": [],
      "source": [
        "#IMP DATA FOR CONFIG\n",
        "\n",
        "# Configuration\n",
        "EPOCHS = 15\n",
        "BATCH_SIZE = 32 #* strategy.num_replicas_in_sync\n",
        "MAX_LEN = 192\n"
      ]
    },
    {
      "cell_type": "code",
      "execution_count": null,
      "metadata": {
        "colab": {
          "base_uri": "https://localhost:8080/"
        },
        "id": "TxTjloQ5FqSY",
        "outputId": "a78cbaa1-0025-499b-9f06-d300f9a37f04"
      },
      "outputs": [
        {
          "data": {
            "text/plain": [
              "Tokenizer(vocabulary_size=119547, model=BertWordPiece, unk_token=[UNK], sep_token=[SEP], cls_token=[CLS], pad_token=[PAD], mask_token=[MASK], clean_text=True, handle_chinese_chars=True, strip_accents=None, lowercase=False, wordpieces_prefix=##)"
            ]
          },
          "execution_count": 29,
          "metadata": {},
          "output_type": "execute_result"
        }
      ],
      "source": [
        "text_tokenizer = BertWordPieceTokenizer('outputs/tokenizers/vocab.txt', lowercase=False)\n",
        "text_tokenizer"
      ]
    },
    {
      "cell_type": "code",
      "execution_count": null,
      "metadata": {
        "colab": {
          "base_uri": "https://localhost:8080/"
        },
        "id": "-ABrBtrm_CjV",
        "outputId": "4e27a358-cc2f-4e1b-ae0e-c1b9d9021b1e"
      },
      "outputs": [
        {
          "data": {
            "text/plain": [
              "array([[0, 0],\n",
              "       [1, 1],\n",
              "       [0, 0],\n",
              "       ...,\n",
              "       [1, 0],\n",
              "       [0, 0],\n",
              "       [1, 0]])"
            ]
          },
          "execution_count": 30,
          "metadata": {},
          "output_type": "execute_result"
        }
      ],
      "source": [
        "t_train"
      ]
    },
    {
      "cell_type": "code",
      "execution_count": null,
      "metadata": {
        "colab": {
          "base_uri": "https://localhost:8080/"
        },
        "id": "jFEIYeiyFqSY",
        "outputId": "bd064bd3-6f30-4c5c-891c-535d0cf4075a"
      },
      "outputs": [
        {
          "name": "stderr",
          "output_type": "stream",
          "text": [
            "100%|██████████| 117/117 [00:02<00:00, 49.70it/s]\n",
            "100%|██████████| 17/17 [00:00<00:00, 51.86it/s]\n",
            "100%|██████████| 34/34 [00:00<00:00, 49.80it/s]\n"
          ]
        }
      ],
      "source": [
        "x_train = text_encode(d_train, text_tokenizer, maxlen=MAX_LEN)\n",
        "x_valid = text_encode(d_valid, text_tokenizer, maxlen=MAX_LEN)\n",
        "x_test = text_encode(d_test, text_tokenizer, maxlen=MAX_LEN)\n",
        "\n",
        "y_train = t_train[:,0]\n",
        "y_valid = t_valid[:,0]\n",
        "y_test = t_test[:,0]"
      ]
    },
    {
      "cell_type": "code",
      "execution_count": null,
      "metadata": {
        "id": "jrEm3UVe85LE"
      },
      "outputs": [],
      "source": []
    },
    {
      "cell_type": "code",
      "execution_count": null,
      "metadata": {
        "id": "WIhQG2bYFqSY"
      },
      "outputs": [],
      "source": [
        "train_dataset = (\n",
        "    tf.data.Dataset\n",
        "    .from_tensor_slices((x_train, y_train))\n",
        "    .repeat()\n",
        "    .shuffle(2048)\n",
        "    .batch(BATCH_SIZE)\n",
        "    .prefetch(tf.data.experimental.AUTOTUNE)\n",
        ")\n",
        "\n",
        "valid_dataset = (\n",
        "    tf.data.Dataset\n",
        "    .from_tensor_slices((x_valid, y_valid))\n",
        "    .batch(BATCH_SIZE)\n",
        "    .cache()\n",
        "    .prefetch(tf.data.experimental.AUTOTUNE)\n",
        ")\n",
        "\n",
        "test_dataset = (\n",
        "    tf.data.Dataset\n",
        "    .from_tensor_slices(x_test)\n",
        "    .batch(BATCH_SIZE)\n",
        ")"
      ]
    },
    {
      "cell_type": "markdown",
      "metadata": {
        "id": "78nzxnBD-qt2"
      },
      "source": [
        "## Création du modèle."
      ]
    },
    {
      "cell_type": "markdown",
      "metadata": {
        "id": "_fciyr9OU4nK"
      },
      "source": [
        "Dans la ligne `sequence_output = transformer(input_word_ids)[0]`, `transformer` fait référence à l'objet `transformer_layer` qui est passé à la fonction `build_bert_model` en tant que paramètre. Cet objet est une instance du modèle BERT (ou DistilBERT dans ce cas) chargé à partir de TensorFlow Hub ou d'une autre source pré-entraînée.\n",
        "\n",
        "Expliquons la ligne en détail :\n",
        "\n",
        "1. **`transformer(input_word_ids)`** :\n",
        "   - `transformer` est l'objet représentant le modèle BERT chargé.\n",
        "   - `input_word_ids` est l'entrée du modèle, qui contient les identifiants de tokens des mots du texte à encoder.\n",
        "\n",
        "2. **`[0]`** :\n",
        "   - Après l'appel de `transformer(input_word_ids)`, le modèle BERT renvoie plusieurs sorties. Pour récupérer la sortie principale, qui est généralement la séquence d'embeddings de chaque token dans le texte d'entrée, on sélectionne l'élément `[0]` de la sortie.\n",
        "   - Dans le cas de BERT, cette sortie est généralement une paire de tenseurs, où le premier élément représente la séquence d'embeddings de chaque token, et le deuxième élément représente un tenseur contenant diverses informations supplémentaires telles que l'état caché du modèle.\n",
        "\n",
        "Ainsi, `sequence_output` contient la séquence d'embeddings de chaque token dans le texte d'entrée, qui peut être utilisée pour effectuer des tâches de classification, de régression ou d'autres tâches de traitement du langage naturel."
      ]
    },
    {
      "cell_type": "code",
      "execution_count": null,
      "metadata": {
        "id": "saxcvgBxcyjL"
      },
      "outputs": [],
      "source": []
    },
    {
      "cell_type": "code",
      "execution_count": null,
      "metadata": {
        "id": "Jh3LuhneFqSY"
      },
      "outputs": [],
      "source": [
        "import tensorflow as tf\n",
        "from transformers import TFAutoModelForSequenceClassification, TFDistilBertModel\n",
        "\n",
        "def _build_bert_model(transformer, max_len=512, optimizer = Adam(learning_rate=1e-5)):\n",
        "    \"\"\"\n",
        "    function for training the BERT model\n",
        "    \"\"\"\n",
        "    input_word_ids = Input(shape=(max_len,), dtype=tf.int32, name=\"input_word_ids\")\n",
        "    sequence_output = transformer(input_word_ids)[0]\n",
        "    cls_token = sequence_output[:, 0, :]\n",
        "    out = Dense(1, activation='sigmoid')(cls_token)\n",
        "\n",
        "    #model = Model(inputs=input_word_ids, outputs=out)\n",
        "    model = tf.keras.Model(inputs=input_word_ids, outputs=out)\n",
        "    model.compile(optimizer = optimizer, loss='binary_crossentropy', metrics=['accuracy'])\n",
        "\n",
        "    #return model"
      ]
    },
    {
      "cell_type": "code",
      "execution_count": null,
      "metadata": {
        "id": "X1TmGs-0RnLY"
      },
      "outputs": [],
      "source": [
        "from transformers import TFDistilBertModel, DistilBertTokenizer\n",
        "import tensorflow as tf\n",
        "def build_bert_model_3_layer(max_len=512, optimizer = Adam()):\n",
        "  # Charger le modèle pré-entraîné DistilBERT et le tokenizer\n",
        "  distilbert_model = TFDistilBertModel.from_pretrained('distilbert-base-multilingual-cased')\n",
        "  #tokenizer = DistilBertTokenizer.from_pretrained('distilbert-base-multilingual-cased')\n",
        "\n",
        "  # Créer le modèle séquentiel\n",
        "  model = tf.keras.Sequential()\n",
        "\n",
        "  # Ajouter la couche DistilBERT (notez que nous utilisons distilbert_model.layers[0] pour accéder à la couche de transformer)\n",
        "  model.add(tf.keras.layers.Input(shape=(max_len,), dtype=tf.int32, name=\"input_word_ids\"))\n",
        "  model.add(distilbert_model.layers[0])\n",
        "\n",
        "  # Ajouter des couches supplémentaires si nécessaire\n",
        "  # Par exemple, une couche Dense pour la classification\n",
        "  model.add(tf.keras.layers.Dense(1, activation='sigmoid'))\n",
        "  #model.add(tf.keras.layers.Dense(4, activation='softmax'))\n",
        "\n",
        "  # Compiler le modèle avec une loss adaptée à la classification multiclasse\n",
        "  # model.compile(optimizer='adam', loss='categorical_crossentropy', metrics=['accuracy'])\n",
        "\n",
        "  # Compiler le modèle\n",
        "  opt = RMSprop()\n",
        "  model.compile(optimizer = optimizer, loss='binary_crossentropy', metrics=['accuracy'])\n",
        "\n",
        "  # Afficher le résumé du modèle\n",
        "\n",
        "  return model\n",
        "\n"
      ]
    },
    {
      "cell_type": "markdown",
      "metadata": {
        "id": "_ZTPkVcbZI6S"
      },
      "source": []
    },
    {
      "cell_type": "code",
      "execution_count": null,
      "metadata": {
        "id": "FktdOtxXZJcT"
      },
      "outputs": [],
      "source": [
        "\n"
      ]
    },
    {
      "cell_type": "code",
      "execution_count": null,
      "metadata": {
        "id": "CBCNERpj8DS1"
      },
      "outputs": [],
      "source": [
        "from transformers import TFDistilBertModel, DistilBertTokenizer\n",
        "import tensorflow as tf\n",
        "from keras import regularizers\n",
        "def build_bert_model(max_len=512, optimizer = Adam()):\n",
        "  \"\"\"\n",
        "  That function create the BERT model for training\n",
        "  \"\"\"\n",
        "  # Charger le modèle pré-entraîné DistilBERT et le tokenizer\n",
        "  distilbert_model = TFDistilBertModel.from_pretrained('distilbert-base-multilingual-cased')\n",
        "  #tokenizer = DistilBertTokenizer.from_pretrained('distilbert-base-multilingual-cased')\n",
        "\n",
        "  model = tf.keras.Sequential([\n",
        "    # La couche d'entrée\n",
        "    Input(shape=(max_len,), dtype=tf.int32, name=\"input_word_ids\"),\n",
        "\n",
        "    # Ajouter la couche DistilBERT (notez que nous utilisons distilbert_model.layers[0] pour accéder à la couche de transformer)\n",
        "    # La couche DistilBERT\n",
        "    distilbert_model.layers[0],\n",
        "\n",
        "    # La couche pour obtenir le premier token [CLS]\n",
        "    tf.keras.layers.Lambda(lambda seq: seq[:, 0, :]),\n",
        "\n",
        "    #Dense(256, activation=\"relu\", kernel_regularizer=regularizers.l2(0.01)),\n",
        "    #Dropout(0.5),\n",
        "    #Dense(128, activation=\"relu\", kernel_regularizer=regularizers.l2(0.01)),\n",
        "    #Dropout(0.5),\n",
        "    #Dense(64,  activation=\"relu\", kernel_regularizer=regularizers.l2(0.01)),\n",
        "\n",
        "    # Ajouter des couches supplémentaires si nécessaire\n",
        "    # Par exemple, une couche Dense pour la classification\n",
        "    # La couche de sortie\n",
        "    Dense(1, activation='sigmoid')\n",
        "  ])\n",
        "\n",
        "  loss = tf.keras.losses.BinaryCrossentropy()\n",
        "  #metrics = tf.metrics.BinaryAccuracy()\n",
        "\n",
        "  # Compiler le modèle\n",
        "  # Compiler le modèle avec une loss adaptée à la classification binaire\n",
        "  model.compile(optimizer = optimizer, loss=loss, metrics=['accuracy'])\n",
        "\n",
        "  # Afficher le résumé du modèle\n",
        "\n",
        "  return model"
      ]
    },
    {
      "cell_type": "code",
      "execution_count": null,
      "metadata": {
        "colab": {
          "base_uri": "https://localhost:8080/",
          "height": 512,
          "referenced_widgets": [
            "c722f521aab14d2e98b866c98849aee2",
            "6a094acf060e4685a652700be11d9e86",
            "7347c70886b14c1886e238869a8bc965",
            "fdf4e7cac4c8419f80fe02f92e36bbb8",
            "9e6840ecbde746d6a26839a99e1c59b9",
            "b54d7a33cb2143508aae5bba366e2fd1",
            "0d2b7eee665643d7b49fed6edce22434",
            "4f2b72aa367e4cc3a2521c0ef684ab10",
            "eaf1756d9940498bb39ac43b11ac5fc3",
            "bda448e3352d43dcb004e5f2163bb8af",
            "70ed48ceb7a54d139ced0aa07f5fb8ef"
          ]
        },
        "id": "_LuuyjF6tcFx",
        "outputId": "a8e4da21-dd91-4e0b-fbbf-6b85af916d9e"
      },
      "outputs": [
        {
          "data": {
            "application/vnd.jupyter.widget-view+json": {
              "model_id": "c722f521aab14d2e98b866c98849aee2",
              "version_major": 2,
              "version_minor": 0
            },
            "text/plain": [
              "model.safetensors:   0%|          | 0.00/542M [00:00<?, ?B/s]"
            ]
          },
          "metadata": {},
          "output_type": "display_data"
        },
        {
          "name": "stderr",
          "output_type": "stream",
          "text": [
            "Some weights of the PyTorch model were not used when initializing the TF 2.0 model TFDistilBertModel: ['vocab_transform.bias', 'vocab_transform.weight', 'vocab_projector.bias', 'vocab_layer_norm.bias', 'vocab_layer_norm.weight']\n",
            "- This IS expected if you are initializing TFDistilBertModel from a PyTorch model trained on another task or with another architecture (e.g. initializing a TFBertForSequenceClassification model from a BertForPreTraining model).\n",
            "- This IS NOT expected if you are initializing TFDistilBertModel from a PyTorch model that you expect to be exactly identical (e.g. initializing a TFBertForSequenceClassification model from a BertForSequenceClassification model).\n",
            "All the weights of TFDistilBertModel were initialized from the PyTorch model.\n",
            "If your task is similar to the task the model of the checkpoint was trained on, you can already use TFDistilBertModel for predictions without further training.\n"
          ]
        },
        {
          "name": "stdout",
          "output_type": "stream",
          "text": [
            "Model: \"sequential\"\n",
            "_________________________________________________________________\n",
            " Layer (type)                Output Shape              Param #   \n",
            "=================================================================\n",
            " module_wrapper (ModuleWrap  TFBaseModelOutput(last_   134734080 \n",
            " per)                        hidden_state=(None, 192             \n",
            "                             , 768),                             \n",
            "                              hidden_states=None, at             \n",
            "                             tentions=None)                      \n",
            "                                                                 \n",
            " lambda (Lambda)             (None, 768)               0         \n",
            "                                                                 \n",
            " dense (Dense)               (None, 1)                 769       \n",
            "                                                                 \n",
            "=================================================================\n",
            "Total params: 134734849 (513.97 MB)\n",
            "Trainable params: 134734849 (513.97 MB)\n",
            "Non-trainable params: 0 (0.00 Byte)\n",
            "_________________________________________________________________\n"
          ]
        }
      ],
      "source": [
        "from keras.optimizers import AdamW\n",
        "model = build_bert_model(optimizer = Adam(learning_rate = 1e-5 ), max_len=MAX_LEN)\n",
        "model.summary()"
      ]
    },
    {
      "cell_type": "markdown",
      "metadata": {
        "id": "wDqRZSquFqSY"
      },
      "source": [
        "### Starting Training\n",
        "\n",
        "If you want to use any another model just replace the model name in transformers._____ and use accordingly"
      ]
    },
    {
      "cell_type": "code",
      "execution_count": null,
      "metadata": {
        "id": "hDgVcEBEW-FY"
      },
      "outputs": [],
      "source": []
    },
    {
      "cell_type": "code",
      "execution_count": null,
      "metadata": {
        "colab": {
          "base_uri": "https://localhost:8080/"
        },
        "id": "T9XpAAaNFqSZ",
        "outputId": "890382b7-b1e6-4877-dbd5-63c3274e24c5"
      },
      "outputs": [
        {
          "name": "stdout",
          "output_type": "stream",
          "text": [
            "Epoch 1/15\n",
            "935/935 [==============================] - 230s 217ms/step - loss: 0.2942 - accuracy: 0.8721 - val_loss: 0.2212 - val_accuracy: 0.9123\n",
            "Epoch 2/15\n",
            "935/935 [==============================] - 200s 214ms/step - loss: 0.1866 - accuracy: 0.9273 - val_loss: 0.2134 - val_accuracy: 0.9200\n",
            "Epoch 3/15\n",
            "935/935 [==============================] - 200s 214ms/step - loss: 0.1514 - accuracy: 0.9412 - val_loss: 0.2222 - val_accuracy: 0.9184\n",
            "Epoch 4/15\n",
            "935/935 [==============================] - 200s 214ms/step - loss: 0.1141 - accuracy: 0.9577 - val_loss: 0.2594 - val_accuracy: 0.9200\n",
            "Epoch 5/15\n",
            "935/935 [==============================] - 200s 214ms/step - loss: 0.0805 - accuracy: 0.9715 - val_loss: 0.2934 - val_accuracy: 0.9175\n",
            "Epoch 6/15\n",
            "935/935 [==============================] - 200s 214ms/step - loss: 0.0594 - accuracy: 0.9791 - val_loss: 0.2921 - val_accuracy: 0.9186\n",
            "Epoch 7/15\n",
            "935/935 [==============================] - 200s 214ms/step - loss: 0.0412 - accuracy: 0.9858 - val_loss: 0.3551 - val_accuracy: 0.9170\n",
            "Epoch 8/15\n",
            "935/935 [==============================] - 200s 214ms/step - loss: 0.0333 - accuracy: 0.9886 - val_loss: 0.3909 - val_accuracy: 0.9133\n",
            "Epoch 9/15\n",
            "935/935 [==============================] - 200s 214ms/step - loss: 0.0241 - accuracy: 0.9913 - val_loss: 0.4521 - val_accuracy: 0.9163\n",
            "Epoch 10/15\n",
            "935/935 [==============================] - 200s 214ms/step - loss: 0.0207 - accuracy: 0.9925 - val_loss: 0.4327 - val_accuracy: 0.9149\n",
            "Epoch 11/15\n",
            "935/935 [==============================] - 200s 214ms/step - loss: 0.0169 - accuracy: 0.9944 - val_loss: 0.5108 - val_accuracy: 0.9126\n",
            "Epoch 12/15\n",
            "935/935 [==============================] - 200s 214ms/step - loss: 0.0171 - accuracy: 0.9944 - val_loss: 0.4669 - val_accuracy: 0.9149\n",
            "Epoch 13/15\n",
            "935/935 [==============================] - 200s 214ms/step - loss: 0.0124 - accuracy: 0.9954 - val_loss: 0.5333 - val_accuracy: 0.9114\n",
            "Epoch 14/15\n",
            "935/935 [==============================] - 200s 214ms/step - loss: 0.0138 - accuracy: 0.9951 - val_loss: 0.4437 - val_accuracy: 0.9137\n",
            "Epoch 15/15\n",
            "935/935 [==============================] - 200s 213ms/step - loss: 0.0119 - accuracy: 0.9959 - val_loss: 0.4932 - val_accuracy: 0.9133\n"
          ]
        }
      ],
      "source": [
        "n_steps = x_train.shape[0] // BATCH_SIZE\n",
        "train_history = model.fit(\n",
        "    train_dataset,\n",
        "    steps_per_epoch=n_steps,\n",
        "    validation_data=valid_dataset,\n",
        "    epochs=EPOCHS\n",
        ")"
      ]
    },
    {
      "cell_type": "code",
      "execution_count": null,
      "metadata": {
        "id": "mFZYZoii77GR"
      },
      "outputs": [],
      "source": [
        "_dir_path = '/content/gdrive/MyDrive/machine_learning/nlp_project/'\n",
        "\n",
        "# Sauvegarder les poids du modèle\n",
        "model.save_weights(_dir_path+'outputs/bert_model-4.h5')\n",
        "\n",
        "# Plus tard, pour charger les poids dans un nouveau modèle avec la même architecture\n",
        "#new_model = create_model()  # Créez le modèle avec la même architecture\n",
        "#new_model.load_weights('chemin_vers_vos_poids.h5')  # Chargez les poids sauvegardés\n"
      ]
    },
    {
      "cell_type": "code",
      "execution_count": null,
      "metadata": {
        "id": "z49gSndOFqSZ"
      },
      "outputs": [],
      "source": [
        "\n"
      ]
    },
    {
      "cell_type": "code",
      "execution_count": null,
      "metadata": {
        "id": "mKWLeysrFqSZ"
      },
      "outputs": [],
      "source": [
        "history = train_history.history"
      ]
    },
    {
      "cell_type": "code",
      "execution_count": null,
      "metadata": {
        "colab": {
          "base_uri": "https://localhost:8080/",
          "height": 472
        },
        "id": "cfd_h19CFqSZ",
        "outputId": "f6b2384c-20b2-438d-c025-ab959316fc7c"
      },
      "outputs": [
        {
          "data": {
            "image/png": "[encoded data removed]",
            "text/plain": [
              "<Figure size 640x480 with 1 Axes>"
            ]
          },
          "metadata": {},
          "output_type": "display_data"
        }
      ],
      "source": [
        "\n",
        "import matplotlib.pyplot as plt\n",
        "plt.plot(history['loss'])\n",
        "plt.plot(history['val_loss'])\n",
        "plt.title('Courbes de l\\'entrainement et de validation') #('Training and validation loss curves (VGG19)')\n",
        "plt.ylabel('perte (loss)')\n",
        "plt.xlabel('pas (epoch)')\n",
        "plt.legend(['entrainement', 'validation'], loc='upper right')\n",
        "plt.show()"
      ]
    },
    {
      "cell_type": "code",
      "execution_count": null,
      "metadata": {
        "colab": {
          "base_uri": "https://localhost:8080/",
          "height": 472
        },
        "id": "d5NHQOsRFqSZ",
        "outputId": "515753e7-4361-4b0e-9d11-c8065fd84731"
      },
      "outputs": [
        {
          "data": {
            "image/png": "[encoded data removed]",
            "text/plain": [
              "<Figure size 640x480 with 1 Axes>"
            ]
          },
          "metadata": {},
          "output_type": "display_data"
        }
      ],
      "source": [
        "plt.plot(history['accuracy'])\n",
        "plt.plot(history['val_accuracy'])\n",
        "plt.title('Courbes de précision de formation et de validation') # ('Training and validation accuracy curves (VGG19)')\n",
        "plt.ylabel('précision (accuracy)')\n",
        "plt.xlabel('pas (epoch)')\n",
        "plt.legend(['entrainement', 'validation'], loc='upper left')\n",
        "plt.show()"
      ]
    },
    {
      "cell_type": "code",
      "execution_count": null,
      "metadata": {
        "colab": {
          "base_uri": "https://localhost:8080/"
        },
        "id": "DfvxlImPFqSa",
        "outputId": "18bb40b5-bb06-4a3b-aaf5-522e86dbe9c9"
      },
      "outputs": [
        {
          "name": "stdout",
          "output_type": "stream",
          "text": [
            "Epoch 1/30\n",
            "133/133 [==============================] - 27s 204ms/step - loss: 0.2484 - accuracy: 0.9133\n",
            "Epoch 2/30\n",
            "133/133 [==============================] - 27s 204ms/step - loss: 0.1350 - accuracy: 0.9486\n",
            "Epoch 3/30\n",
            "133/133 [==============================] - 27s 203ms/step - loss: 0.0811 - accuracy: 0.9739\n",
            "Epoch 4/30\n",
            "133/133 [==============================] - 27s 203ms/step - loss: 0.0405 - accuracy: 0.9882\n",
            "Epoch 5/30\n",
            "133/133 [==============================] - 27s 204ms/step - loss: 0.0272 - accuracy: 0.9910\n",
            "Epoch 6/30\n",
            "133/133 [==============================] - 27s 204ms/step - loss: 0.0223 - accuracy: 0.9932\n",
            "Epoch 7/30\n",
            "133/133 [==============================] - 27s 204ms/step - loss: 0.0173 - accuracy: 0.9936\n",
            "Epoch 8/30\n",
            "133/133 [==============================] - 27s 204ms/step - loss: 0.0083 - accuracy: 0.9981\n",
            "Epoch 9/30\n",
            "133/133 [==============================] - 27s 204ms/step - loss: 0.0032 - accuracy: 0.9998\n",
            "Epoch 10/30\n",
            "133/133 [==============================] - 27s 204ms/step - loss: 0.0099 - accuracy: 0.9965\n",
            "Epoch 11/30\n",
            "133/133 [==============================] - 27s 204ms/step - loss: 0.0057 - accuracy: 0.9976\n",
            "Epoch 12/30\n",
            "133/133 [==============================] - 27s 203ms/step - loss: 0.0034 - accuracy: 0.9991\n",
            "Epoch 13/30\n",
            "133/133 [==============================] - 27s 204ms/step - loss: 0.0104 - accuracy: 0.9967\n",
            "Epoch 14/30\n",
            "133/133 [==============================] - 27s 204ms/step - loss: 0.0062 - accuracy: 0.9981\n",
            "Epoch 15/30\n",
            "133/133 [==============================] - 27s 204ms/step - loss: 0.0032 - accuracy: 0.9993\n",
            "Epoch 16/30\n",
            "133/133 [==============================] - 27s 204ms/step - loss: 0.0021 - accuracy: 0.9993\n",
            "Epoch 17/30\n",
            "133/133 [==============================] - 27s 204ms/step - loss: 0.0011 - accuracy: 0.9998\n",
            "Epoch 18/30\n",
            "133/133 [==============================] - 27s 204ms/step - loss: 0.0029 - accuracy: 0.9988\n",
            "Epoch 19/30\n",
            "133/133 [==============================] - 27s 204ms/step - loss: 0.0034 - accuracy: 0.9984\n",
            "Epoch 20/30\n",
            "133/133 [==============================] - 27s 203ms/step - loss: 0.0030 - accuracy: 0.9986\n",
            "Epoch 21/30\n",
            "133/133 [==============================] - 27s 204ms/step - loss: 0.0023 - accuracy: 0.9995\n",
            "Epoch 22/30\n",
            "133/133 [==============================] - 27s 204ms/step - loss: 0.0055 - accuracy: 0.9986\n",
            "Epoch 23/30\n",
            "133/133 [==============================] - 27s 204ms/step - loss: 0.0048 - accuracy: 0.9991\n",
            "Epoch 24/30\n",
            "133/133 [==============================] - 27s 203ms/step - loss: 0.0031 - accuracy: 0.9991\n",
            "Epoch 25/30\n",
            "133/133 [==============================] - 27s 204ms/step - loss: 0.0033 - accuracy: 0.9991\n",
            "Epoch 26/30\n",
            "133/133 [==============================] - 27s 204ms/step - loss: 0.0036 - accuracy: 0.9988\n",
            "Epoch 27/30\n",
            "133/133 [==============================] - 27s 204ms/step - loss: 0.0065 - accuracy: 0.9984\n",
            "Epoch 28/30\n",
            "133/133 [==============================] - 27s 204ms/step - loss: 0.0055 - accuracy: 0.9976\n",
            "Epoch 29/30\n",
            "133/133 [==============================] - 27s 204ms/step - loss: 0.0027 - accuracy: 0.9991\n",
            "Epoch 30/30\n",
            "133/133 [==============================] - 27s 204ms/step - loss: 0.0032 - accuracy: 0.9993\n"
          ]
        }
      ],
      "source": [
        "n_steps = x_valid.shape[0] // BATCH_SIZE\n",
        "train_history_2 = model.fit(\n",
        "    valid_dataset.repeat(),\n",
        "    steps_per_epoch=n_steps,\n",
        "    epochs=EPOCHS*2\n",
        ")"
      ]
    },
    {
      "cell_type": "code",
      "execution_count": null,
      "metadata": {
        "colab": {
          "base_uri": "https://localhost:8080/",
          "height": 764
        },
        "id": "j2eOiYUx96Ht",
        "outputId": "12c4b2bc-c9aa-4111-e430-3833a3a860b8"
      },
      "outputs": [
        {
          "name": "stderr",
          "output_type": "stream",
          "text": [
            "/usr/local/lib/python3.10/dist-packages/keras/src/engine/training.py:3103: UserWarning: You are saving your model as an HDF5 file via `model.save()`. This file format is considered legacy. We recommend using instead the native Keras format, e.g. `model.save('my_model.keras')`.\n",
            "  saving_api.save_model(\n"
          ]
        },
        {
          "ename": "NotImplementedError",
          "evalue": "\nLayer ModuleWrapper was created by passing\nnon-serializable argument values in `__init__()`,\nand therefore the layer must override `get_config()` in\norder to be serializable. Please implement `get_config()`.\n\nExample:\n\nclass CustomLayer(keras.layers.Layer):\n    def __init__(self, arg1, arg2, **kwargs):\n        super().__init__(**kwargs)\n        self.arg1 = arg1\n        self.arg2 = arg2\n\n    def get_config(self):\n        config = super().get_config()\n        config.update({\n            \"arg1\": self.arg1,\n            \"arg2\": self.arg2,\n        })\n        return config",
          "output_type": "error",
          "traceback": [
            "\u001b[0;31m---------------------------------------------------------------------------\u001b[0m",
            "\u001b[0;31mNotImplementedError\u001b[0m                       Traceback (most recent call last)",
            "\u001b[0;32m<ipython-input-49-e49f3879f13b>\u001b[0m in \u001b[0;36m<cell line: 4>\u001b[0;34m()\u001b[0m\n\u001b[1;32m      2\u001b[0m \u001b[0;34m\u001b[0m\u001b[0m\n\u001b[1;32m      3\u001b[0m \u001b[0;31m# Sauvegarder les poids du modèle...\u001b[0m\u001b[0;34m\u001b[0m\u001b[0;34m\u001b[0m\u001b[0m\n\u001b[0;32m----> 4\u001b[0;31m \u001b[0mmodel\u001b[0m\u001b[0;34m.\u001b[0m\u001b[0msave\u001b[0m\u001b[0;34m(\u001b[0m\u001b[0m_dir_path\u001b[0m\u001b[0;34m+\u001b[0m\u001b[0;34m'outputs/xbert_model-3-val.h5'\u001b[0m\u001b[0;34m)\u001b[0m\u001b[0;34m\u001b[0m\u001b[0;34m\u001b[0m\u001b[0m\n\u001b[0m",
            "\u001b[0;32m/usr/local/lib/python3.10/dist-packages/keras/src/utils/traceback_utils.py\u001b[0m in \u001b[0;36merror_handler\u001b[0;34m(*args, **kwargs)\u001b[0m\n\u001b[1;32m     68\u001b[0m             \u001b[0;31m# To get the full stack trace, call:\u001b[0m\u001b[0;34m\u001b[0m\u001b[0;34m\u001b[0m\u001b[0m\n\u001b[1;32m     69\u001b[0m             \u001b[0;31m# `tf.debugging.disable_traceback_filtering()`\u001b[0m\u001b[0;34m\u001b[0m\u001b[0;34m\u001b[0m\u001b[0m\n\u001b[0;32m---> 70\u001b[0;31m             \u001b[0;32mraise\u001b[0m \u001b[0me\u001b[0m\u001b[0;34m.\u001b[0m\u001b[0mwith_traceback\u001b[0m\u001b[0;34m(\u001b[0m\u001b[0mfiltered_tb\u001b[0m\u001b[0;34m)\u001b[0m \u001b[0;32mfrom\u001b[0m \u001b[0;32mNone\u001b[0m\u001b[0;34m\u001b[0m\u001b[0;34m\u001b[0m\u001b[0m\n\u001b[0m\u001b[1;32m     71\u001b[0m         \u001b[0;32mfinally\u001b[0m\u001b[0;34m:\u001b[0m\u001b[0;34m\u001b[0m\u001b[0;34m\u001b[0m\u001b[0m\n\u001b[1;32m     72\u001b[0m             \u001b[0;32mdel\u001b[0m \u001b[0mfiltered_tb\u001b[0m\u001b[0;34m\u001b[0m\u001b[0;34m\u001b[0m\u001b[0m\n",
            "\u001b[0;32m/usr/local/lib/python3.10/dist-packages/keras/src/engine/base_layer.py\u001b[0m in \u001b[0;36mget_config\u001b[0;34m(self)\u001b[0m\n\u001b[1;32m    823\u001b[0m             \u001b[0;32mreturn\u001b[0m \u001b[0mconfig\u001b[0m\u001b[0;34m\u001b[0m\u001b[0;34m\u001b[0m\u001b[0m\n\u001b[1;32m    824\u001b[0m         \u001b[0;32melse\u001b[0m\u001b[0;34m:\u001b[0m\u001b[0;34m\u001b[0m\u001b[0;34m\u001b[0m\u001b[0m\n\u001b[0;32m--> 825\u001b[0;31m             raise NotImplementedError(\n\u001b[0m\u001b[1;32m    826\u001b[0m                 textwrap.dedent(\n\u001b[1;32m    827\u001b[0m                     f\"\"\"\n",
            "\u001b[0;31mNotImplementedError\u001b[0m: \nLayer ModuleWrapper was created by passing\nnon-serializable argument values in `__init__()`,\nand therefore the layer must override `get_config()` in\norder to be serializable. Please implement `get_config()`.\n\nExample:\n\nclass CustomLayer(keras.layers.Layer):\n    def __init__(self, arg1, arg2, **kwargs):\n        super().__init__(**kwargs)\n        self.arg1 = arg1\n        self.arg2 = arg2\n\n    def get_config(self):\n        config = super().get_config()\n        config.update({\n            \"arg1\": self.arg1,\n            \"arg2\": self.arg2,\n        })\n        return config"
          ]
        }
      ],
      "source": [
        "_dir_path = '/content/gdrive/MyDrive/machine_learning/nlp_project/'\n",
        "\n",
        "# Sauvegarder les poids du modèle...\n",
        "model.save_weights(_dir_path+'outputs/xbert_model-4-val.h5')\n"
      ]
    },
    {
      "cell_type": "code",
      "execution_count": null,
      "metadata": {
        "colab": {
          "base_uri": "https://localhost:8080/",
          "height": 472
        },
        "id": "Zj_Ng4SO98Pe",
        "outputId": "86925288-0ee2-4156-cba5-dc27a58577f9"
      },
      "outputs": [
        {
          "data": {
            "image/png": "[encoded data removed]",
            "text/plain": [
              "<Figure size 640x480 with 1 Axes>"
            ]
          },
          "metadata": {},
          "output_type": "display_data"
        }
      ],
      "source": [
        "history = train_history_2.history\n",
        "import matplotlib.pyplot as plt\n",
        "plt.plot(history['loss'])\n",
        "#plt.plot(history['val_loss'])\n",
        "plt.title('Courbes de l\\'entrainement et de validation') #('Training and validation loss curves')\n",
        "plt.ylabel('perte (loss)')\n",
        "plt.xlabel('pas (epoch)')\n",
        "plt.legend(['entrainement', 'validation'], loc='upper right')\n",
        "plt.show()"
      ]
    },
    {
      "cell_type": "code",
      "execution_count": null,
      "metadata": {
        "colab": {
          "base_uri": "https://localhost:8080/",
          "height": 472
        },
        "id": "KCW9x4fe9-wO",
        "outputId": "e992dc9b-8e0d-49a4-fde2-61d9f6e6e610"
      },
      "outputs": [
        {
          "data": {
            "image/png": "[encoded data removed]",
            "text/plain": [
              "<Figure size 640x480 with 1 Axes>"
            ]
          },
          "metadata": {},
          "output_type": "display_data"
        }
      ],
      "source": [
        "plt.plot(history['accuracy'])\n",
        "#plt.plot(history['val_accuracy'])\n",
        "plt.title('Courbes de précision de formation et de validation') # ('Training and validation accuracy curves ')\n",
        "plt.ylabel('précision (accuracy)')\n",
        "plt.xlabel('pas (epoch)')\n",
        "plt.legend(['entrainement', 'validation'], loc='upper left')\n",
        "plt.show()"
      ]
    },
    {
      "cell_type": "code",
      "execution_count": null,
      "metadata": {
        "colab": {
          "base_uri": "https://localhost:8080/"
        },
        "id": "L5CJyDV18KrM",
        "outputId": "4ec01072-a16b-4922-f3f3-5c9ff6f19f71"
      },
      "outputs": [
        {
          "name": "stdout",
          "output_type": "stream",
          "text": [
            "134/134 [==============================] - 10s 72ms/step - loss: 3.5245e-05 - accuracy: 1.0000\n",
            "Loss: 3.524532439769246e-05\n",
            "Accuracy: 1.0\n"
          ]
        }
      ],
      "source": [
        "loss, accuracy = model.evaluate(valid_dataset)\n",
        "\n",
        "print(f'Loss: {loss}')\n",
        "print(f'Accuracy: {accuracy}')"
      ]
    },
    {
      "cell_type": "code",
      "execution_count": null,
      "metadata": {
        "colab": {
          "base_uri": "https://localhost:8080/"
        },
        "id": "_9c6izoyFqSa",
        "outputId": "1d55ddff-eab9-42fd-d2c3-282f053b10b8"
      },
      "outputs": [
        {
          "name": "stdout",
          "output_type": "stream",
          "text": [
            "268/268 [==============================] - 18s 68ms/step\n"
          ]
        }
      ],
      "source": [
        "pred = model.predict(test_dataset, verbose=1)\n",
        "#sub.to_csv('submission.csv', index=False)\n"
      ]
    },
    {
      "cell_type": "code",
      "execution_count": null,
      "metadata": {
        "colab": {
          "base_uri": "https://localhost:8080/"
        },
        "id": "KMLpX-WL6dUT",
        "outputId": "d7835587-41ed-4a65-faa8-d87e928d0590"
      },
      "outputs": [
        {
          "name": "stdout",
          "output_type": "stream",
          "text": [
            "Auc: 0.97%\n"
          ]
        }
      ],
      "source": [
        "print(\"Auc: %.2f%%\" % (roc_auc(pred,y_test)))"
      ]
    },
    {
      "cell_type": "code",
      "execution_count": null,
      "metadata": {
        "id": "DGfYY8nR87Gn"
      },
      "outputs": [],
      "source": [
        "examples = [\n",
        "    'this is such an amazing movie!',  # this is the same sentence tried earlier\n",
        "    'The movie was great!',\n",
        "    'The movie was meh.',\n",
        "    'The movie was okish.',\n",
        "    'The movie was terrible...',\n",
        "    'I love this movie',\n",
        "    'I hate this movie',\n",
        "    'I am bored',\n",
        "    'I am tired',\n",
        "    'I am happy',\n",
        "    'I am sad',\n",
        "    'I am angry',\n",
        "    'I am scared',\n",
        "]"
      ]
    },
    {
      "cell_type": "markdown",
      "metadata": {
        "id": "UBMFLEp54_54"
      },
      "source": [
        "## Tester le modèle entrainé"
      ]
    },
    {
      "cell_type": "code",
      "execution_count": null,
      "metadata": {
        "colab": {
          "base_uri": "https://localhost:8080/"
        },
        "id": "2fH5Ur6b89O2",
        "outputId": "6fe2a5f2-7e6c-427a-ff65-82c0fa124b5a"
      },
      "outputs": [
        {
          "name": "stdout",
          "output_type": "stream",
          "text": [
            "1/1 [==============================] - 0s 31ms/step\n",
            "La phrase est toxique avec une probabilité de 1.00\n"
          ]
        }
      ],
      "source": [
        "from transformers import DistilBertTokenizer\n",
        "\n",
        "# Charger le tokenizer\n",
        "#tokenizer = DistilBertTokenizer.from_pretrained('distilbert-base-multilingual-cased')\n",
        "\n",
        "# Phrase à tester\n",
        "phrase = \"You bastart\"\n",
        "\n",
        "# Prétraiter la phrase\n",
        "inputs = tokenizer(phrase, return_tensors=\"tf\", max_length=MAX_LEN, truncation=True, padding='max_length')\n",
        "\n",
        "# Obtenir la prédiction\n",
        "predictions = model.predict(inputs['input_ids'])\n",
        "\n",
        "# Interpréter la prédiction\n",
        "toxic_threshold = 0.5  # Définir un seuil\n",
        "is_toxic = predictions[0, 0] > toxic_threshold\n",
        "\n",
        "print(f\"La phrase est {'toxique' if is_toxic else 'non-toxique'} avec une probabilité de {predictions[0, 0]:.2f}\")"
      ]
    },
    {
      "cell_type": "code",
      "execution_count": null,
      "metadata": {
        "id": "vz0aN80N4e-Q"
      },
      "outputs": [],
      "source": []
    },
    {
      "cell_type": "markdown",
      "metadata": {
        "id": "byVYgiow5Kgs"
      },
      "source": [
        "## Tester le modèle enregistré"
      ]
    },
    {
      "cell_type": "code",
      "execution_count": null,
      "metadata": {
        "colab": {
          "base_uri": "https://localhost:8080/"
        },
        "id": "yO0qmkZb4ee3",
        "outputId": "597f40aa-8956-4d1a-af17-4d37c8efab02"
      },
      "outputs": [
        {
          "name": "stderr",
          "output_type": "stream",
          "text": [
            "Some weights of the PyTorch model were not used when initializing the TF 2.0 model TFDistilBertModel: ['vocab_transform.bias', 'vocab_transform.weight', 'vocab_projector.bias', 'vocab_layer_norm.bias', 'vocab_layer_norm.weight']\n",
            "- This IS expected if you are initializing TFDistilBertModel from a PyTorch model trained on another task or with another architecture (e.g. initializing a TFBertForSequenceClassification model from a BertForPreTraining model).\n",
            "- This IS NOT expected if you are initializing TFDistilBertModel from a PyTorch model that you expect to be exactly identical (e.g. initializing a TFBertForSequenceClassification model from a BertForSequenceClassification model).\n",
            "All the weights of TFDistilBertModel were initialized from the PyTorch model.\n",
            "If your task is similar to the task the model of the checkpoint was trained on, you can already use TFDistilBertModel for predictions without further training.\n"
          ]
        }
      ],
      "source": [
        "_dir_path = '/content/gdrive/MyDrive/machine_learning/nlp_project/'\n",
        "\n",
        "# Sauvegarder les poids du modèle\n",
        "#model.save_weights(_dir_path+'outputs/bert_model-4.h5')\n",
        "\n",
        "# Plus tard, pour charger les poids dans un nouveau modèle avec la même architecture\n",
        "new_model = build_bert_model()  # Créez le modèle avec la même architecture\n",
        "new_model.load_weights(_dir_path+'outputs/bert_model-3-val.h5')  # Chargez les poids sauvegardés"
      ]
    },
    {
      "cell_type": "code",
      "execution_count": null,
      "metadata": {
        "id": "eWrdw0JwDpWZ"
      },
      "outputs": [],
      "source": [
        "examples = [\n",
        "    'Everythings goes bad today',\n",
        "    'I am tired',\n",
        "    'I am happy',\n",
        "    'I am sad',\n",
        "    'I am angry',\n",
        "    'I am scared',\n",
        "    'Je suis malade',\n",
        "]"
      ]
    },
    {
      "cell_type": "code",
      "execution_count": null,
      "metadata": {
        "id": "GjGl5F52GGec"
      },
      "outputs": [],
      "source": [
        "examples = [\n",
        "    'Je suis malade',\n",
        "    'Je suis heureux',\n",
        "    'Je t\\'aime',\n",
        "    'Je te haie',\n",
        "    'Va chier',\n",
        "    'Va dormir',\n",
        "    'Te quiero',\n",
        "    'Te quiero mucho',\n",
        "    'Como estas',\n",
        "    'Vete a la mierda',\n",
        "    'culo',\n",
        "]"
      ]
    },
    {
      "cell_type": "code",
      "execution_count": null,
      "metadata": {
        "colab": {
          "base_uri": "https://localhost:8080/"
        },
        "id": "hhKmaoh34eAH",
        "outputId": "53a2632e-7ea1-454a-b4e1-ddf8e679a88e"
      },
      "outputs": [
        {
          "name": "stdout",
          "output_type": "stream",
          "text": [
            "1/1 [==============================] - 0s 28ms/step\n",
            "La **Je suis malade** est toxique avec une probabilité de 96.90\n",
            "1/1 [==============================] - 0s 28ms/step\n",
            "La **Je suis heureux** est non-toxique avec une probabilité de 0.20\n",
            "1/1 [==============================] - 0s 29ms/step\n",
            "La **Je t'aime** est non-toxique avec une probabilité de 2.29\n",
            "1/1 [==============================] - 0s 29ms/step\n",
            "La **Je te haie** est toxique avec une probabilité de 98.71\n",
            "1/1 [==============================] - 0s 29ms/step\n",
            "La **Va chier** est toxique avec une probabilité de 99.21\n",
            "1/1 [==============================] - 0s 29ms/step\n",
            "La **Va dormir** est non-toxique avec une probabilité de 0.01\n",
            "1/1 [==============================] - 0s 31ms/step\n",
            "La **Te quiero** est non-toxique avec une probabilité de 0.11\n",
            "1/1 [==============================] - 0s 30ms/step\n",
            "La **Te quiero mucho** est non-toxique avec une probabilité de 0.01\n",
            "1/1 [==============================] - 0s 29ms/step\n",
            "La **Como estas** est non-toxique avec une probabilité de 0.02\n",
            "1/1 [==============================] - 0s 31ms/step\n",
            "La **Vete a la mierda** est non-toxique avec une probabilité de 0.09\n",
            "1/1 [==============================] - 0s 29ms/step\n",
            "La **culo** est non-toxique avec une probabilité de 0.00\n"
          ]
        }
      ],
      "source": [
        "from transformers import DistilBertTokenizer\n",
        "# Phrase à tester\n",
        "\n",
        "\n",
        "def test_toxic(phrase):\n",
        "  # Prétraiter la phrase\n",
        "  inputs = tokenizer(phrase, return_tensors=\"tf\", max_length=MAX_LEN, truncation=True, padding='max_length')\n",
        "\n",
        "  # Obtenir la prédiction\n",
        "  predictions = new_model.predict(inputs['input_ids'])\n",
        "\n",
        "  # Interpréter la prédiction\n",
        "  toxic_threshold = 0.5  # Définir un seuil\n",
        "  is_toxic = predictions[0, 0] > toxic_threshold\n",
        "\n",
        "  per = predictions[0, 0] * 100\n",
        "\n",
        "  print(f\"La **{phrase}** est {'toxique' if is_toxic else 'non-toxique'} avec une probabilité de {per:.2f}\")\n",
        "\n",
        "for phrase in examples:\n",
        "  test_toxic(phrase)"
      ]
    },
    {
      "cell_type": "markdown",
      "metadata": {
        "id": "vxOCCiwRFqSa"
      },
      "source": [
        "# End Notes\n",
        "\n",
        "This was my effort to share my learnings so that everyone can benifit from it.As this community has been very kind to me and helped me in learning all of this , I want to take this forward. I have shared all the resources I used to learn all the stuff .Join me and make these NLP competitions your first ,without being overwhelmed by the shear number of techniques used . It took me 10 days to learn all of this , you can learn it at your pace and dont give in , at the end of all this you will be a different person and it will all be worth it.\n",
        "\n",
        "\n",
        "### I am attaching more resources if you want NLP end to end:\n",
        "\n",
        "1) Books\n",
        "\n",
        "* https://d2l.ai/\n",
        "* Jason Brownlee's Books\n",
        "\n",
        "2) Courses\n",
        "\n",
        "* https://www.coursera.org/learn/nlp-sequence-models/home/welcome\n",
        "* Fast.ai NLP Course\n",
        "\n",
        "3) Blogs and websites\n",
        "\n",
        "* Machine Learning Mastery\n",
        "* https://distill.pub/\n",
        "* http://jalammar.github.io/\n",
        "\n",
        "**<span style=\"color:Red\">This is subtle effort of contributing towards the community, if it helped you in any way please show a token of love by upvoting**"
      ]
    }
  ],
  "metadata": {
    "accelerator": "GPU",
    "colab": {
      "gpuType": "V100",
      "machine_shape": "hm",
      "provenance": []
    },
    "kernelspec": {
      "display_name": "Python 3",
      "name": "python3"
    },
    "language_info": {
      "codemirror_mode": {
        "name": "ipython",
        "version": 3
      },
      "file_extension": ".py",
      "mimetype": "text/x-python",
      "name": "python",
      "nbconvert_exporter": "python",
      "pygments_lexer": "ipython3",
      "version": "3.11.4"
    },
    "widgets": {
      "application/vnd.jupyter.widget-state+json": {
        "032814452d074a8ba938c251d8b5b9e9": {
          "model_module": "@jupyter-widgets/controls",
          "model_module_version": "1.5.0",
          "model_name": "HBoxModel",
          "state": {
            "_dom_classes": [],
            "_model_module": "@jupyter-widgets/controls",
            "_model_module_version": "1.5.0",
            "_model_name": "HBoxModel",
            "_view_count": null,
            "_view_module": "@jupyter-widgets/controls",
            "_view_module_version": "1.5.0",
            "_view_name": "HBoxView",
            "box_style": "",
            "children": [
              "IPY_MODEL_d7595a313b704d75b16ce1fdede37699",
              "IPY_MODEL_8f9a1404b5de4b1f802ea42eb239f52c",
              "IPY_MODEL_e6412cb98562435e84d37e3e9ee2b80d"
            ],
            "layout": "IPY_MODEL_4adb0d0cdd834b76b0ed00114368ebc2"
          }
        },
        "05e22ba577b345b99e8f7a6c74c5c184": {
          "model_module": "@jupyter-widgets/base",
          "model_module_version": "1.2.0",
          "model_name": "LayoutModel",
          "state": {
            "_model_module": "@jupyter-widgets/base",
            "_model_module_version": "1.2.0",
            "_model_name": "LayoutModel",
            "_view_count": null,
            "_view_module": "@jupyter-widgets/base",
            "_view_module_version": "1.2.0",
            "_view_name": "LayoutView",
            "align_content": null,
            "align_items": null,
            "align_self": null,
            "border": null,
            "bottom": null,
            "display": null,
            "flex": null,
            "flex_flow": null,
            "grid_area": null,
            "grid_auto_columns": null,
            "grid_auto_flow": null,
            "grid_auto_rows": null,
            "grid_column": null,
            "grid_gap": null,
            "grid_row": null,
            "grid_template_areas": null,
            "grid_template_columns": null,
            "grid_template_rows": null,
            "height": null,
            "justify_content": null,
            "justify_items": null,
            "left": null,
            "margin": null,
            "max_height": null,
            "max_width": null,
            "min_height": null,
            "min_width": null,
            "object_fit": null,
            "object_position": null,
            "order": null,
            "overflow": null,
            "overflow_x": null,
            "overflow_y": null,
            "padding": null,
            "right": null,
            "top": null,
            "visibility": null,
            "width": null
          }
        },
        "0d2b7eee665643d7b49fed6edce22434": {
          "model_module": "@jupyter-widgets/controls",
          "model_module_version": "1.5.0",
          "model_name": "DescriptionStyleModel",
          "state": {
            "_model_module": "@jupyter-widgets/controls",
            "_model_module_version": "1.5.0",
            "_model_name": "DescriptionStyleModel",
            "_view_count": null,
            "_view_module": "@jupyter-widgets/base",
            "_view_module_version": "1.2.0",
            "_view_name": "StyleView",
            "description_width": ""
          }
        },
        "183b40692e5347c4bd18d0b4d46cba76": {
          "model_module": "@jupyter-widgets/controls",
          "model_module_version": "1.5.0",
          "model_name": "HTMLModel",
          "state": {
            "_dom_classes": [],
            "_model_module": "@jupyter-widgets/controls",
            "_model_module_version": "1.5.0",
            "_model_name": "HTMLModel",
            "_view_count": null,
            "_view_module": "@jupyter-widgets/controls",
            "_view_module_version": "1.5.0",
            "_view_name": "HTMLView",
            "description": "",
            "description_tooltip": null,
            "layout": "IPY_MODEL_7a955c8431c1420e94448d8aee25c08a",
            "placeholder": "​",
            "style": "IPY_MODEL_1c370659e6af4459b0452d8c7c1996b2",
            "value": "vocab.txt: 100%"
          }
        },
        "1c370659e6af4459b0452d8c7c1996b2": {
          "model_module": "@jupyter-widgets/controls",
          "model_module_version": "1.5.0",
          "model_name": "DescriptionStyleModel",
          "state": {
            "_model_module": "@jupyter-widgets/controls",
            "_model_module_version": "1.5.0",
            "_model_name": "DescriptionStyleModel",
            "_view_count": null,
            "_view_module": "@jupyter-widgets/base",
            "_view_module_version": "1.2.0",
            "_view_name": "StyleView",
            "description_width": ""
          }
        },
        "2c34c9889be0406792d89c455e16dfab": {
          "model_module": "@jupyter-widgets/base",
          "model_module_version": "1.2.0",
          "model_name": "LayoutModel",
          "state": {
            "_model_module": "@jupyter-widgets/base",
            "_model_module_version": "1.2.0",
            "_model_name": "LayoutModel",
            "_view_count": null,
            "_view_module": "@jupyter-widgets/base",
            "_view_module_version": "1.2.0",
            "_view_name": "LayoutView",
            "align_content": null,
            "align_items": null,
            "align_self": null,
            "border": null,
            "bottom": null,
            "display": null,
            "flex": null,
            "flex_flow": null,
            "grid_area": null,
            "grid_auto_columns": null,
            "grid_auto_flow": null,
            "grid_auto_rows": null,
            "grid_column": null,
            "grid_gap": null,
            "grid_row": null,
            "grid_template_areas": null,
            "grid_template_columns": null,
            "grid_template_rows": null,
            "height": null,
            "justify_content": null,
            "justify_items": null,
            "left": null,
            "margin": null,
            "max_height": null,
            "max_width": null,
            "min_height": null,
            "min_width": null,
            "object_fit": null,
            "object_position": null,
            "order": null,
            "overflow": null,
            "overflow_x": null,
            "overflow_y": null,
            "padding": null,
            "right": null,
            "top": null,
            "visibility": null,
            "width": null
          }
        },
        "2dfffab9a404487fb8e9f1087c34dfd9": {
          "model_module": "@jupyter-widgets/controls",
          "model_module_version": "1.5.0",
          "model_name": "ProgressStyleModel",
          "state": {
            "_model_module": "@jupyter-widgets/controls",
            "_model_module_version": "1.5.0",
            "_model_name": "ProgressStyleModel",
            "_view_count": null,
            "_view_module": "@jupyter-widgets/base",
            "_view_module_version": "1.2.0",
            "_view_name": "StyleView",
            "bar_color": null,
            "description_width": ""
          }
        },
        "30fd79261e7e46e18edd17aff7d5a4aa": {
          "model_module": "@jupyter-widgets/controls",
          "model_module_version": "1.5.0",
          "model_name": "FloatProgressModel",
          "state": {
            "_dom_classes": [],
            "_model_module": "@jupyter-widgets/controls",
            "_model_module_version": "1.5.0",
            "_model_name": "FloatProgressModel",
            "_view_count": null,
            "_view_module": "@jupyter-widgets/controls",
            "_view_module_version": "1.5.0",
            "_view_name": "ProgressView",
            "bar_style": "success",
            "description": "",
            "description_tooltip": null,
            "layout": "IPY_MODEL_db20a25d59694a1fa5d05e74f7df3a4d",
            "max": 466,
            "min": 0,
            "orientation": "horizontal",
            "style": "IPY_MODEL_dc3b06e29c8b4a908d2ddf80f95c2711",
            "value": 466
          }
        },
        "368f5f26ed48458089aa3d1fb7835728": {
          "model_module": "@jupyter-widgets/base",
          "model_module_version": "1.2.0",
          "model_name": "LayoutModel",
          "state": {
            "_model_module": "@jupyter-widgets/base",
            "_model_module_version": "1.2.0",
            "_model_name": "LayoutModel",
            "_view_count": null,
            "_view_module": "@jupyter-widgets/base",
            "_view_module_version": "1.2.0",
            "_view_name": "LayoutView",
            "align_content": null,
            "align_items": null,
            "align_self": null,
            "border": null,
            "bottom": null,
            "display": null,
            "flex": null,
            "flex_flow": null,
            "grid_area": null,
            "grid_auto_columns": null,
            "grid_auto_flow": null,
            "grid_auto_rows": null,
            "grid_column": null,
            "grid_gap": null,
            "grid_row": null,
            "grid_template_areas": null,
            "grid_template_columns": null,
            "grid_template_rows": null,
            "height": null,
            "justify_content": null,
            "justify_items": null,
            "left": null,
            "margin": null,
            "max_height": null,
            "max_width": null,
            "min_height": null,
            "min_width": null,
            "object_fit": null,
            "object_position": null,
            "order": null,
            "overflow": null,
            "overflow_x": null,
            "overflow_y": null,
            "padding": null,
            "right": null,
            "top": null,
            "visibility": null,
            "width": null
          }
        },
        "380e1ed134f14351a2d56a1d4d44d59b": {
          "model_module": "@jupyter-widgets/base",
          "model_module_version": "1.2.0",
          "model_name": "LayoutModel",
          "state": {
            "_model_module": "@jupyter-widgets/base",
            "_model_module_version": "1.2.0",
            "_model_name": "LayoutModel",
            "_view_count": null,
            "_view_module": "@jupyter-widgets/base",
            "_view_module_version": "1.2.0",
            "_view_name": "LayoutView",
            "align_content": null,
            "align_items": null,
            "align_self": null,
            "border": null,
            "bottom": null,
            "display": null,
            "flex": null,
            "flex_flow": null,
            "grid_area": null,
            "grid_auto_columns": null,
            "grid_auto_flow": null,
            "grid_auto_rows": null,
            "grid_column": null,
            "grid_gap": null,
            "grid_row": null,
            "grid_template_areas": null,
            "grid_template_columns": null,
            "grid_template_rows": null,
            "height": null,
            "justify_content": null,
            "justify_items": null,
            "left": null,
            "margin": null,
            "max_height": null,
            "max_width": null,
            "min_height": null,
            "min_width": null,
            "object_fit": null,
            "object_position": null,
            "order": null,
            "overflow": null,
            "overflow_x": null,
            "overflow_y": null,
            "padding": null,
            "right": null,
            "top": null,
            "visibility": null,
            "width": null
          }
        },
        "3dd7cc4a1e6d411f877083d5194a5c24": {
          "model_module": "@jupyter-widgets/base",
          "model_module_version": "1.2.0",
          "model_name": "LayoutModel",
          "state": {
            "_model_module": "@jupyter-widgets/base",
            "_model_module_version": "1.2.0",
            "_model_name": "LayoutModel",
            "_view_count": null,
            "_view_module": "@jupyter-widgets/base",
            "_view_module_version": "1.2.0",
            "_view_name": "LayoutView",
            "align_content": null,
            "align_items": null,
            "align_self": null,
            "border": null,
            "bottom": null,
            "display": null,
            "flex": null,
            "flex_flow": null,
            "grid_area": null,
            "grid_auto_columns": null,
            "grid_auto_flow": null,
            "grid_auto_rows": null,
            "grid_column": null,
            "grid_gap": null,
            "grid_row": null,
            "grid_template_areas": null,
            "grid_template_columns": null,
            "grid_template_rows": null,
            "height": null,
            "justify_content": null,
            "justify_items": null,
            "left": null,
            "margin": null,
            "max_height": null,
            "max_width": null,
            "min_height": null,
            "min_width": null,
            "object_fit": null,
            "object_position": null,
            "order": null,
            "overflow": null,
            "overflow_x": null,
            "overflow_y": null,
            "padding": null,
            "right": null,
            "top": null,
            "visibility": null,
            "width": null
          }
        },
        "432b9e65c90647f982bcae6a7fc207e2": {
          "model_module": "@jupyter-widgets/controls",
          "model_module_version": "1.5.0",
          "model_name": "DescriptionStyleModel",
          "state": {
            "_model_module": "@jupyter-widgets/controls",
            "_model_module_version": "1.5.0",
            "_model_name": "DescriptionStyleModel",
            "_view_count": null,
            "_view_module": "@jupyter-widgets/base",
            "_view_module_version": "1.2.0",
            "_view_name": "StyleView",
            "description_width": ""
          }
        },
        "44d6f71976f846458948ca7e9fae4030": {
          "model_module": "@jupyter-widgets/controls",
          "model_module_version": "1.5.0",
          "model_name": "DescriptionStyleModel",
          "state": {
            "_model_module": "@jupyter-widgets/controls",
            "_model_module_version": "1.5.0",
            "_model_name": "DescriptionStyleModel",
            "_view_count": null,
            "_view_module": "@jupyter-widgets/base",
            "_view_module_version": "1.2.0",
            "_view_name": "StyleView",
            "description_width": ""
          }
        },
        "48671b4eda2e40e2a724614377216ea0": {
          "model_module": "@jupyter-widgets/base",
          "model_module_version": "1.2.0",
          "model_name": "LayoutModel",
          "state": {
            "_model_module": "@jupyter-widgets/base",
            "_model_module_version": "1.2.0",
            "_model_name": "LayoutModel",
            "_view_count": null,
            "_view_module": "@jupyter-widgets/base",
            "_view_module_version": "1.2.0",
            "_view_name": "LayoutView",
            "align_content": null,
            "align_items": null,
            "align_self": null,
            "border": null,
            "bottom": null,
            "display": null,
            "flex": null,
            "flex_flow": null,
            "grid_area": null,
            "grid_auto_columns": null,
            "grid_auto_flow": null,
            "grid_auto_rows": null,
            "grid_column": null,
            "grid_gap": null,
            "grid_row": null,
            "grid_template_areas": null,
            "grid_template_columns": null,
            "grid_template_rows": null,
            "height": null,
            "justify_content": null,
            "justify_items": null,
            "left": null,
            "margin": null,
            "max_height": null,
            "max_width": null,
            "min_height": null,
            "min_width": null,
            "object_fit": null,
            "object_position": null,
            "order": null,
            "overflow": null,
            "overflow_x": null,
            "overflow_y": null,
            "padding": null,
            "right": null,
            "top": null,
            "visibility": null,
            "width": null
          }
        },
        "4adb0d0cdd834b76b0ed00114368ebc2": {
          "model_module": "@jupyter-widgets/base",
          "model_module_version": "1.2.0",
          "model_name": "LayoutModel",
          "state": {
            "_model_module": "@jupyter-widgets/base",
            "_model_module_version": "1.2.0",
            "_model_name": "LayoutModel",
            "_view_count": null,
            "_view_module": "@jupyter-widgets/base",
            "_view_module_version": "1.2.0",
            "_view_name": "LayoutView",
            "align_content": null,
            "align_items": null,
            "align_self": null,
            "border": null,
            "bottom": null,
            "display": null,
            "flex": null,
            "flex_flow": null,
            "grid_area": null,
            "grid_auto_columns": null,
            "grid_auto_flow": null,
            "grid_auto_rows": null,
            "grid_column": null,
            "grid_gap": null,
            "grid_row": null,
            "grid_template_areas": null,
            "grid_template_columns": null,
            "grid_template_rows": null,
            "height": null,
            "justify_content": null,
            "justify_items": null,
            "left": null,
            "margin": null,
            "max_height": null,
            "max_width": null,
            "min_height": null,
            "min_width": null,
            "object_fit": null,
            "object_position": null,
            "order": null,
            "overflow": null,
            "overflow_x": null,
            "overflow_y": null,
            "padding": null,
            "right": null,
            "top": null,
            "visibility": null,
            "width": null
          }
        },
        "4f2b72aa367e4cc3a2521c0ef684ab10": {
          "model_module": "@jupyter-widgets/base",
          "model_module_version": "1.2.0",
          "model_name": "LayoutModel",
          "state": {
            "_model_module": "@jupyter-widgets/base",
            "_model_module_version": "1.2.0",
            "_model_name": "LayoutModel",
            "_view_count": null,
            "_view_module": "@jupyter-widgets/base",
            "_view_module_version": "1.2.0",
            "_view_name": "LayoutView",
            "align_content": null,
            "align_items": null,
            "align_self": null,
            "border": null,
            "bottom": null,
            "display": null,
            "flex": null,
            "flex_flow": null,
            "grid_area": null,
            "grid_auto_columns": null,
            "grid_auto_flow": null,
            "grid_auto_rows": null,
            "grid_column": null,
            "grid_gap": null,
            "grid_row": null,
            "grid_template_areas": null,
            "grid_template_columns": null,
            "grid_template_rows": null,
            "height": null,
            "justify_content": null,
            "justify_items": null,
            "left": null,
            "margin": null,
            "max_height": null,
            "max_width": null,
            "min_height": null,
            "min_width": null,
            "object_fit": null,
            "object_position": null,
            "order": null,
            "overflow": null,
            "overflow_x": null,
            "overflow_y": null,
            "padding": null,
            "right": null,
            "top": null,
            "visibility": null,
            "width": null
          }
        },
        "50efbe4a086649ecae9575799bb8bf1a": {
          "model_module": "@jupyter-widgets/base",
          "model_module_version": "1.2.0",
          "model_name": "LayoutModel",
          "state": {
            "_model_module": "@jupyter-widgets/base",
            "_model_module_version": "1.2.0",
            "_model_name": "LayoutModel",
            "_view_count": null,
            "_view_module": "@jupyter-widgets/base",
            "_view_module_version": "1.2.0",
            "_view_name": "LayoutView",
            "align_content": null,
            "align_items": null,
            "align_self": null,
            "border": null,
            "bottom": null,
            "display": null,
            "flex": null,
            "flex_flow": null,
            "grid_area": null,
            "grid_auto_columns": null,
            "grid_auto_flow": null,
            "grid_auto_rows": null,
            "grid_column": null,
            "grid_gap": null,
            "grid_row": null,
            "grid_template_areas": null,
            "grid_template_columns": null,
            "grid_template_rows": null,
            "height": null,
            "justify_content": null,
            "justify_items": null,
            "left": null,
            "margin": null,
            "max_height": null,
            "max_width": null,
            "min_height": null,
            "min_width": null,
            "object_fit": null,
            "object_position": null,
            "order": null,
            "overflow": null,
            "overflow_x": null,
            "overflow_y": null,
            "padding": null,
            "right": null,
            "top": null,
            "visibility": null,
            "width": null
          }
        },
        "5719951aff544dfbb27b1f777764c7ec": {
          "model_module": "@jupyter-widgets/base",
          "model_module_version": "1.2.0",
          "model_name": "LayoutModel",
          "state": {
            "_model_module": "@jupyter-widgets/base",
            "_model_module_version": "1.2.0",
            "_model_name": "LayoutModel",
            "_view_count": null,
            "_view_module": "@jupyter-widgets/base",
            "_view_module_version": "1.2.0",
            "_view_name": "LayoutView",
            "align_content": null,
            "align_items": null,
            "align_self": null,
            "border": null,
            "bottom": null,
            "display": null,
            "flex": null,
            "flex_flow": null,
            "grid_area": null,
            "grid_auto_columns": null,
            "grid_auto_flow": null,
            "grid_auto_rows": null,
            "grid_column": null,
            "grid_gap": null,
            "grid_row": null,
            "grid_template_areas": null,
            "grid_template_columns": null,
            "grid_template_rows": null,
            "height": null,
            "justify_content": null,
            "justify_items": null,
            "left": null,
            "margin": null,
            "max_height": null,
            "max_width": null,
            "min_height": null,
            "min_width": null,
            "object_fit": null,
            "object_position": null,
            "order": null,
            "overflow": null,
            "overflow_x": null,
            "overflow_y": null,
            "padding": null,
            "right": null,
            "top": null,
            "visibility": null,
            "width": null
          }
        },
        "57d177c2c2254d4db9671380c70503c1": {
          "model_module": "@jupyter-widgets/controls",
          "model_module_version": "1.5.0",
          "model_name": "HTMLModel",
          "state": {
            "_dom_classes": [],
            "_model_module": "@jupyter-widgets/controls",
            "_model_module_version": "1.5.0",
            "_model_name": "HTMLModel",
            "_view_count": null,
            "_view_module": "@jupyter-widgets/controls",
            "_view_module_version": "1.5.0",
            "_view_name": "HTMLView",
            "description": "",
            "description_tooltip": null,
            "layout": "IPY_MODEL_b3378c5154684d209af445851eeeeca8",
            "placeholder": "​",
            "style": "IPY_MODEL_5d34149ebe0b4ac490e1b60e0db2aa57",
            "value": "config.json: 100%"
          }
        },
        "59de2d29ea684fd8b4855c7b2f85768c": {
          "model_module": "@jupyter-widgets/controls",
          "model_module_version": "1.5.0",
          "model_name": "DescriptionStyleModel",
          "state": {
            "_model_module": "@jupyter-widgets/controls",
            "_model_module_version": "1.5.0",
            "_model_name": "DescriptionStyleModel",
            "_view_count": null,
            "_view_module": "@jupyter-widgets/base",
            "_view_module_version": "1.2.0",
            "_view_name": "StyleView",
            "description_width": ""
          }
        },
        "5bfc1d463f034021af529886fa14d909": {
          "model_module": "@jupyter-widgets/controls",
          "model_module_version": "1.5.0",
          "model_name": "HTMLModel",
          "state": {
            "_dom_classes": [],
            "_model_module": "@jupyter-widgets/controls",
            "_model_module_version": "1.5.0",
            "_model_name": "HTMLModel",
            "_view_count": null,
            "_view_module": "@jupyter-widgets/controls",
            "_view_module_version": "1.5.0",
            "_view_name": "HTMLView",
            "description": "",
            "description_tooltip": null,
            "layout": "IPY_MODEL_7e2a70413ecb4111a47095866ce42cc2",
            "placeholder": "​",
            "style": "IPY_MODEL_44d6f71976f846458948ca7e9fae4030",
            "value": " 466/466 [00:00&lt;00:00, 43.0kB/s]"
          }
        },
        "5d34149ebe0b4ac490e1b60e0db2aa57": {
          "model_module": "@jupyter-widgets/controls",
          "model_module_version": "1.5.0",
          "model_name": "DescriptionStyleModel",
          "state": {
            "_model_module": "@jupyter-widgets/controls",
            "_model_module_version": "1.5.0",
            "_model_name": "DescriptionStyleModel",
            "_view_count": null,
            "_view_module": "@jupyter-widgets/base",
            "_view_module_version": "1.2.0",
            "_view_name": "StyleView",
            "description_width": ""
          }
        },
        "6a094acf060e4685a652700be11d9e86": {
          "model_module": "@jupyter-widgets/controls",
          "model_module_version": "1.5.0",
          "model_name": "HTMLModel",
          "state": {
            "_dom_classes": [],
            "_model_module": "@jupyter-widgets/controls",
            "_model_module_version": "1.5.0",
            "_model_name": "HTMLModel",
            "_view_count": null,
            "_view_module": "@jupyter-widgets/controls",
            "_view_module_version": "1.5.0",
            "_view_name": "HTMLView",
            "description": "",
            "description_tooltip": null,
            "layout": "IPY_MODEL_b54d7a33cb2143508aae5bba366e2fd1",
            "placeholder": "​",
            "style": "IPY_MODEL_0d2b7eee665643d7b49fed6edce22434",
            "value": "model.safetensors: 100%"
          }
        },
        "70ed48ceb7a54d139ced0aa07f5fb8ef": {
          "model_module": "@jupyter-widgets/controls",
          "model_module_version": "1.5.0",
          "model_name": "DescriptionStyleModel",
          "state": {
            "_model_module": "@jupyter-widgets/controls",
            "_model_module_version": "1.5.0",
            "_model_name": "DescriptionStyleModel",
            "_view_count": null,
            "_view_module": "@jupyter-widgets/base",
            "_view_module_version": "1.2.0",
            "_view_name": "StyleView",
            "description_width": ""
          }
        },
        "7347c70886b14c1886e238869a8bc965": {
          "model_module": "@jupyter-widgets/controls",
          "model_module_version": "1.5.0",
          "model_name": "FloatProgressModel",
          "state": {
            "_dom_classes": [],
            "_model_module": "@jupyter-widgets/controls",
            "_model_module_version": "1.5.0",
            "_model_name": "FloatProgressModel",
            "_view_count": null,
            "_view_module": "@jupyter-widgets/controls",
            "_view_module_version": "1.5.0",
            "_view_name": "ProgressView",
            "bar_style": "success",
            "description": "",
            "description_tooltip": null,
            "layout": "IPY_MODEL_4f2b72aa367e4cc3a2521c0ef684ab10",
            "max": 541795680,
            "min": 0,
            "orientation": "horizontal",
            "style": "IPY_MODEL_eaf1756d9940498bb39ac43b11ac5fc3",
            "value": 541795680
          }
        },
        "75d3a7a9ed8d4f5eadd21a437a862d4c": {
          "model_module": "@jupyter-widgets/controls",
          "model_module_version": "1.5.0",
          "model_name": "ProgressStyleModel",
          "state": {
            "_model_module": "@jupyter-widgets/controls",
            "_model_module_version": "1.5.0",
            "_model_name": "ProgressStyleModel",
            "_view_count": null,
            "_view_module": "@jupyter-widgets/base",
            "_view_module_version": "1.2.0",
            "_view_name": "StyleView",
            "bar_color": null,
            "description_width": ""
          }
        },
        "7608a3776e794a2a8497679723e7497a": {
          "model_module": "@jupyter-widgets/base",
          "model_module_version": "1.2.0",
          "model_name": "LayoutModel",
          "state": {
            "_model_module": "@jupyter-widgets/base",
            "_model_module_version": "1.2.0",
            "_model_name": "LayoutModel",
            "_view_count": null,
            "_view_module": "@jupyter-widgets/base",
            "_view_module_version": "1.2.0",
            "_view_name": "LayoutView",
            "align_content": null,
            "align_items": null,
            "align_self": null,
            "border": null,
            "bottom": null,
            "display": null,
            "flex": null,
            "flex_flow": null,
            "grid_area": null,
            "grid_auto_columns": null,
            "grid_auto_flow": null,
            "grid_auto_rows": null,
            "grid_column": null,
            "grid_gap": null,
            "grid_row": null,
            "grid_template_areas": null,
            "grid_template_columns": null,
            "grid_template_rows": null,
            "height": null,
            "justify_content": null,
            "justify_items": null,
            "left": null,
            "margin": null,
            "max_height": null,
            "max_width": null,
            "min_height": null,
            "min_width": null,
            "object_fit": null,
            "object_position": null,
            "order": null,
            "overflow": null,
            "overflow_x": null,
            "overflow_y": null,
            "padding": null,
            "right": null,
            "top": null,
            "visibility": null,
            "width": null
          }
        },
        "777600aadb6e449fbc895e7b5c9fdfd2": {
          "model_module": "@jupyter-widgets/controls",
          "model_module_version": "1.5.0",
          "model_name": "HTMLModel",
          "state": {
            "_dom_classes": [],
            "_model_module": "@jupyter-widgets/controls",
            "_model_module_version": "1.5.0",
            "_model_name": "HTMLModel",
            "_view_count": null,
            "_view_module": "@jupyter-widgets/controls",
            "_view_module_version": "1.5.0",
            "_view_name": "HTMLView",
            "description": "",
            "description_tooltip": null,
            "layout": "IPY_MODEL_ab1e848f1f1742a0b086057f6650338c",
            "placeholder": "​",
            "style": "IPY_MODEL_432b9e65c90647f982bcae6a7fc207e2",
            "value": " 29.0/29.0 [00:00&lt;00:00, 2.25kB/s]"
          }
        },
        "79e0de53efec4105b103c9ca8c00d38e": {
          "model_module": "@jupyter-widgets/controls",
          "model_module_version": "1.5.0",
          "model_name": "HTMLModel",
          "state": {
            "_dom_classes": [],
            "_model_module": "@jupyter-widgets/controls",
            "_model_module_version": "1.5.0",
            "_model_name": "HTMLModel",
            "_view_count": null,
            "_view_module": "@jupyter-widgets/controls",
            "_view_module_version": "1.5.0",
            "_view_name": "HTMLView",
            "description": "",
            "description_tooltip": null,
            "layout": "IPY_MODEL_5719951aff544dfbb27b1f777764c7ec",
            "placeholder": "​",
            "style": "IPY_MODEL_98c73d4a71be4223a78c3932026d84bb",
            "value": " 996k/996k [00:00&lt;00:00, 2.87MB/s]"
          }
        },
        "7a955c8431c1420e94448d8aee25c08a": {
          "model_module": "@jupyter-widgets/base",
          "model_module_version": "1.2.0",
          "model_name": "LayoutModel",
          "state": {
            "_model_module": "@jupyter-widgets/base",
            "_model_module_version": "1.2.0",
            "_model_name": "LayoutModel",
            "_view_count": null,
            "_view_module": "@jupyter-widgets/base",
            "_view_module_version": "1.2.0",
            "_view_name": "LayoutView",
            "align_content": null,
            "align_items": null,
            "align_self": null,
            "border": null,
            "bottom": null,
            "display": null,
            "flex": null,
            "flex_flow": null,
            "grid_area": null,
            "grid_auto_columns": null,
            "grid_auto_flow": null,
            "grid_auto_rows": null,
            "grid_column": null,
            "grid_gap": null,
            "grid_row": null,
            "grid_template_areas": null,
            "grid_template_columns": null,
            "grid_template_rows": null,
            "height": null,
            "justify_content": null,
            "justify_items": null,
            "left": null,
            "margin": null,
            "max_height": null,
            "max_width": null,
            "min_height": null,
            "min_width": null,
            "object_fit": null,
            "object_position": null,
            "order": null,
            "overflow": null,
            "overflow_x": null,
            "overflow_y": null,
            "padding": null,
            "right": null,
            "top": null,
            "visibility": null,
            "width": null
          }
        },
        "7ca4e16d7ccd4053ad1ed5ca852a8533": {
          "model_module": "@jupyter-widgets/controls",
          "model_module_version": "1.5.0",
          "model_name": "HBoxModel",
          "state": {
            "_dom_classes": [],
            "_model_module": "@jupyter-widgets/controls",
            "_model_module_version": "1.5.0",
            "_model_name": "HBoxModel",
            "_view_count": null,
            "_view_module": "@jupyter-widgets/controls",
            "_view_module_version": "1.5.0",
            "_view_name": "HBoxView",
            "box_style": "",
            "children": [
              "IPY_MODEL_f580dbae44654a05ac2c7cfbe4741d47",
              "IPY_MODEL_d1b9571cff4746a094387c857ae1c08a",
              "IPY_MODEL_777600aadb6e449fbc895e7b5c9fdfd2"
            ],
            "layout": "IPY_MODEL_fb789b8344494bba99b9887eceb0a44a"
          }
        },
        "7df7adf54d764796b0901701d7b03983": {
          "model_module": "@jupyter-widgets/controls",
          "model_module_version": "1.5.0",
          "model_name": "HBoxModel",
          "state": {
            "_dom_classes": [],
            "_model_module": "@jupyter-widgets/controls",
            "_model_module_version": "1.5.0",
            "_model_name": "HBoxModel",
            "_view_count": null,
            "_view_module": "@jupyter-widgets/controls",
            "_view_module_version": "1.5.0",
            "_view_name": "HBoxView",
            "box_style": "",
            "children": [
              "IPY_MODEL_57d177c2c2254d4db9671380c70503c1",
              "IPY_MODEL_30fd79261e7e46e18edd17aff7d5a4aa",
              "IPY_MODEL_5bfc1d463f034021af529886fa14d909"
            ],
            "layout": "IPY_MODEL_05e22ba577b345b99e8f7a6c74c5c184"
          }
        },
        "7e2a70413ecb4111a47095866ce42cc2": {
          "model_module": "@jupyter-widgets/base",
          "model_module_version": "1.2.0",
          "model_name": "LayoutModel",
          "state": {
            "_model_module": "@jupyter-widgets/base",
            "_model_module_version": "1.2.0",
            "_model_name": "LayoutModel",
            "_view_count": null,
            "_view_module": "@jupyter-widgets/base",
            "_view_module_version": "1.2.0",
            "_view_name": "LayoutView",
            "align_content": null,
            "align_items": null,
            "align_self": null,
            "border": null,
            "bottom": null,
            "display": null,
            "flex": null,
            "flex_flow": null,
            "grid_area": null,
            "grid_auto_columns": null,
            "grid_auto_flow": null,
            "grid_auto_rows": null,
            "grid_column": null,
            "grid_gap": null,
            "grid_row": null,
            "grid_template_areas": null,
            "grid_template_columns": null,
            "grid_template_rows": null,
            "height": null,
            "justify_content": null,
            "justify_items": null,
            "left": null,
            "margin": null,
            "max_height": null,
            "max_width": null,
            "min_height": null,
            "min_width": null,
            "object_fit": null,
            "object_position": null,
            "order": null,
            "overflow": null,
            "overflow_x": null,
            "overflow_y": null,
            "padding": null,
            "right": null,
            "top": null,
            "visibility": null,
            "width": null
          }
        },
        "8a6bfab2a2ae46c3b193ff14db99235a": {
          "model_module": "@jupyter-widgets/controls",
          "model_module_version": "1.5.0",
          "model_name": "ProgressStyleModel",
          "state": {
            "_model_module": "@jupyter-widgets/controls",
            "_model_module_version": "1.5.0",
            "_model_name": "ProgressStyleModel",
            "_view_count": null,
            "_view_module": "@jupyter-widgets/base",
            "_view_module_version": "1.2.0",
            "_view_name": "StyleView",
            "bar_color": null,
            "description_width": ""
          }
        },
        "8f9a1404b5de4b1f802ea42eb239f52c": {
          "model_module": "@jupyter-widgets/controls",
          "model_module_version": "1.5.0",
          "model_name": "FloatProgressModel",
          "state": {
            "_dom_classes": [],
            "_model_module": "@jupyter-widgets/controls",
            "_model_module_version": "1.5.0",
            "_model_name": "FloatProgressModel",
            "_view_count": null,
            "_view_module": "@jupyter-widgets/controls",
            "_view_module_version": "1.5.0",
            "_view_name": "ProgressView",
            "bar_style": "success",
            "description": "",
            "description_tooltip": null,
            "layout": "IPY_MODEL_380e1ed134f14351a2d56a1d4d44d59b",
            "max": 1961828,
            "min": 0,
            "orientation": "horizontal",
            "style": "IPY_MODEL_75d3a7a9ed8d4f5eadd21a437a862d4c",
            "value": 1961828
          }
        },
        "9380bdc5d2f443f2b528261e5f297195": {
          "model_module": "@jupyter-widgets/controls",
          "model_module_version": "1.5.0",
          "model_name": "DescriptionStyleModel",
          "state": {
            "_model_module": "@jupyter-widgets/controls",
            "_model_module_version": "1.5.0",
            "_model_name": "DescriptionStyleModel",
            "_view_count": null,
            "_view_module": "@jupyter-widgets/base",
            "_view_module_version": "1.2.0",
            "_view_name": "StyleView",
            "description_width": ""
          }
        },
        "95a53407910a4abcab5f026037600944": {
          "model_module": "@jupyter-widgets/controls",
          "model_module_version": "1.5.0",
          "model_name": "DescriptionStyleModel",
          "state": {
            "_model_module": "@jupyter-widgets/controls",
            "_model_module_version": "1.5.0",
            "_model_name": "DescriptionStyleModel",
            "_view_count": null,
            "_view_module": "@jupyter-widgets/base",
            "_view_module_version": "1.2.0",
            "_view_name": "StyleView",
            "description_width": ""
          }
        },
        "98c73d4a71be4223a78c3932026d84bb": {
          "model_module": "@jupyter-widgets/controls",
          "model_module_version": "1.5.0",
          "model_name": "DescriptionStyleModel",
          "state": {
            "_model_module": "@jupyter-widgets/controls",
            "_model_module_version": "1.5.0",
            "_model_name": "DescriptionStyleModel",
            "_view_count": null,
            "_view_module": "@jupyter-widgets/base",
            "_view_module_version": "1.2.0",
            "_view_name": "StyleView",
            "description_width": ""
          }
        },
        "9e6840ecbde746d6a26839a99e1c59b9": {
          "model_module": "@jupyter-widgets/base",
          "model_module_version": "1.2.0",
          "model_name": "LayoutModel",
          "state": {
            "_model_module": "@jupyter-widgets/base",
            "_model_module_version": "1.2.0",
            "_model_name": "LayoutModel",
            "_view_count": null,
            "_view_module": "@jupyter-widgets/base",
            "_view_module_version": "1.2.0",
            "_view_name": "LayoutView",
            "align_content": null,
            "align_items": null,
            "align_self": null,
            "border": null,
            "bottom": null,
            "display": null,
            "flex": null,
            "flex_flow": null,
            "grid_area": null,
            "grid_auto_columns": null,
            "grid_auto_flow": null,
            "grid_auto_rows": null,
            "grid_column": null,
            "grid_gap": null,
            "grid_row": null,
            "grid_template_areas": null,
            "grid_template_columns": null,
            "grid_template_rows": null,
            "height": null,
            "justify_content": null,
            "justify_items": null,
            "left": null,
            "margin": null,
            "max_height": null,
            "max_width": null,
            "min_height": null,
            "min_width": null,
            "object_fit": null,
            "object_position": null,
            "order": null,
            "overflow": null,
            "overflow_x": null,
            "overflow_y": null,
            "padding": null,
            "right": null,
            "top": null,
            "visibility": null,
            "width": null
          }
        },
        "ab1e848f1f1742a0b086057f6650338c": {
          "model_module": "@jupyter-widgets/base",
          "model_module_version": "1.2.0",
          "model_name": "LayoutModel",
          "state": {
            "_model_module": "@jupyter-widgets/base",
            "_model_module_version": "1.2.0",
            "_model_name": "LayoutModel",
            "_view_count": null,
            "_view_module": "@jupyter-widgets/base",
            "_view_module_version": "1.2.0",
            "_view_name": "LayoutView",
            "align_content": null,
            "align_items": null,
            "align_self": null,
            "border": null,
            "bottom": null,
            "display": null,
            "flex": null,
            "flex_flow": null,
            "grid_area": null,
            "grid_auto_columns": null,
            "grid_auto_flow": null,
            "grid_auto_rows": null,
            "grid_column": null,
            "grid_gap": null,
            "grid_row": null,
            "grid_template_areas": null,
            "grid_template_columns": null,
            "grid_template_rows": null,
            "height": null,
            "justify_content": null,
            "justify_items": null,
            "left": null,
            "margin": null,
            "max_height": null,
            "max_width": null,
            "min_height": null,
            "min_width": null,
            "object_fit": null,
            "object_position": null,
            "order": null,
            "overflow": null,
            "overflow_x": null,
            "overflow_y": null,
            "padding": null,
            "right": null,
            "top": null,
            "visibility": null,
            "width": null
          }
        },
        "b3378c5154684d209af445851eeeeca8": {
          "model_module": "@jupyter-widgets/base",
          "model_module_version": "1.2.0",
          "model_name": "LayoutModel",
          "state": {
            "_model_module": "@jupyter-widgets/base",
            "_model_module_version": "1.2.0",
            "_model_name": "LayoutModel",
            "_view_count": null,
            "_view_module": "@jupyter-widgets/base",
            "_view_module_version": "1.2.0",
            "_view_name": "LayoutView",
            "align_content": null,
            "align_items": null,
            "align_self": null,
            "border": null,
            "bottom": null,
            "display": null,
            "flex": null,
            "flex_flow": null,
            "grid_area": null,
            "grid_auto_columns": null,
            "grid_auto_flow": null,
            "grid_auto_rows": null,
            "grid_column": null,
            "grid_gap": null,
            "grid_row": null,
            "grid_template_areas": null,
            "grid_template_columns": null,
            "grid_template_rows": null,
            "height": null,
            "justify_content": null,
            "justify_items": null,
            "left": null,
            "margin": null,
            "max_height": null,
            "max_width": null,
            "min_height": null,
            "min_width": null,
            "object_fit": null,
            "object_position": null,
            "order": null,
            "overflow": null,
            "overflow_x": null,
            "overflow_y": null,
            "padding": null,
            "right": null,
            "top": null,
            "visibility": null,
            "width": null
          }
        },
        "b54d7a33cb2143508aae5bba366e2fd1": {
          "model_module": "@jupyter-widgets/base",
          "model_module_version": "1.2.0",
          "model_name": "LayoutModel",
          "state": {
            "_model_module": "@jupyter-widgets/base",
            "_model_module_version": "1.2.0",
            "_model_name": "LayoutModel",
            "_view_count": null,
            "_view_module": "@jupyter-widgets/base",
            "_view_module_version": "1.2.0",
            "_view_name": "LayoutView",
            "align_content": null,
            "align_items": null,
            "align_self": null,
            "border": null,
            "bottom": null,
            "display": null,
            "flex": null,
            "flex_flow": null,
            "grid_area": null,
            "grid_auto_columns": null,
            "grid_auto_flow": null,
            "grid_auto_rows": null,
            "grid_column": null,
            "grid_gap": null,
            "grid_row": null,
            "grid_template_areas": null,
            "grid_template_columns": null,
            "grid_template_rows": null,
            "height": null,
            "justify_content": null,
            "justify_items": null,
            "left": null,
            "margin": null,
            "max_height": null,
            "max_width": null,
            "min_height": null,
            "min_width": null,
            "object_fit": null,
            "object_position": null,
            "order": null,
            "overflow": null,
            "overflow_x": null,
            "overflow_y": null,
            "padding": null,
            "right": null,
            "top": null,
            "visibility": null,
            "width": null
          }
        },
        "bb7b36d5b8484c52bbcbea4ba5989b28": {
          "model_module": "@jupyter-widgets/controls",
          "model_module_version": "1.5.0",
          "model_name": "HBoxModel",
          "state": {
            "_dom_classes": [],
            "_model_module": "@jupyter-widgets/controls",
            "_model_module_version": "1.5.0",
            "_model_name": "HBoxModel",
            "_view_count": null,
            "_view_module": "@jupyter-widgets/controls",
            "_view_module_version": "1.5.0",
            "_view_name": "HBoxView",
            "box_style": "",
            "children": [
              "IPY_MODEL_183b40692e5347c4bd18d0b4d46cba76",
              "IPY_MODEL_ebada9cc85964b0b81ed5e236245ca45",
              "IPY_MODEL_79e0de53efec4105b103c9ca8c00d38e"
            ],
            "layout": "IPY_MODEL_50efbe4a086649ecae9575799bb8bf1a"
          }
        },
        "bda448e3352d43dcb004e5f2163bb8af": {
          "model_module": "@jupyter-widgets/base",
          "model_module_version": "1.2.0",
          "model_name": "LayoutModel",
          "state": {
            "_model_module": "@jupyter-widgets/base",
            "_model_module_version": "1.2.0",
            "_model_name": "LayoutModel",
            "_view_count": null,
            "_view_module": "@jupyter-widgets/base",
            "_view_module_version": "1.2.0",
            "_view_name": "LayoutView",
            "align_content": null,
            "align_items": null,
            "align_self": null,
            "border": null,
            "bottom": null,
            "display": null,
            "flex": null,
            "flex_flow": null,
            "grid_area": null,
            "grid_auto_columns": null,
            "grid_auto_flow": null,
            "grid_auto_rows": null,
            "grid_column": null,
            "grid_gap": null,
            "grid_row": null,
            "grid_template_areas": null,
            "grid_template_columns": null,
            "grid_template_rows": null,
            "height": null,
            "justify_content": null,
            "justify_items": null,
            "left": null,
            "margin": null,
            "max_height": null,
            "max_width": null,
            "min_height": null,
            "min_width": null,
            "object_fit": null,
            "object_position": null,
            "order": null,
            "overflow": null,
            "overflow_x": null,
            "overflow_y": null,
            "padding": null,
            "right": null,
            "top": null,
            "visibility": null,
            "width": null
          }
        },
        "c722f521aab14d2e98b866c98849aee2": {
          "model_module": "@jupyter-widgets/controls",
          "model_module_version": "1.5.0",
          "model_name": "HBoxModel",
          "state": {
            "_dom_classes": [],
            "_model_module": "@jupyter-widgets/controls",
            "_model_module_version": "1.5.0",
            "_model_name": "HBoxModel",
            "_view_count": null,
            "_view_module": "@jupyter-widgets/controls",
            "_view_module_version": "1.5.0",
            "_view_name": "HBoxView",
            "box_style": "",
            "children": [
              "IPY_MODEL_6a094acf060e4685a652700be11d9e86",
              "IPY_MODEL_7347c70886b14c1886e238869a8bc965",
              "IPY_MODEL_fdf4e7cac4c8419f80fe02f92e36bbb8"
            ],
            "layout": "IPY_MODEL_9e6840ecbde746d6a26839a99e1c59b9"
          }
        },
        "d1b9571cff4746a094387c857ae1c08a": {
          "model_module": "@jupyter-widgets/controls",
          "model_module_version": "1.5.0",
          "model_name": "FloatProgressModel",
          "state": {
            "_dom_classes": [],
            "_model_module": "@jupyter-widgets/controls",
            "_model_module_version": "1.5.0",
            "_model_name": "FloatProgressModel",
            "_view_count": null,
            "_view_module": "@jupyter-widgets/controls",
            "_view_module_version": "1.5.0",
            "_view_name": "ProgressView",
            "bar_style": "success",
            "description": "",
            "description_tooltip": null,
            "layout": "IPY_MODEL_3dd7cc4a1e6d411f877083d5194a5c24",
            "max": 29,
            "min": 0,
            "orientation": "horizontal",
            "style": "IPY_MODEL_8a6bfab2a2ae46c3b193ff14db99235a",
            "value": 29
          }
        },
        "d7595a313b704d75b16ce1fdede37699": {
          "model_module": "@jupyter-widgets/controls",
          "model_module_version": "1.5.0",
          "model_name": "HTMLModel",
          "state": {
            "_dom_classes": [],
            "_model_module": "@jupyter-widgets/controls",
            "_model_module_version": "1.5.0",
            "_model_name": "HTMLModel",
            "_view_count": null,
            "_view_module": "@jupyter-widgets/controls",
            "_view_module_version": "1.5.0",
            "_view_name": "HTMLView",
            "description": "",
            "description_tooltip": null,
            "layout": "IPY_MODEL_2c34c9889be0406792d89c455e16dfab",
            "placeholder": "​",
            "style": "IPY_MODEL_9380bdc5d2f443f2b528261e5f297195",
            "value": "tokenizer.json: 100%"
          }
        },
        "db20a25d59694a1fa5d05e74f7df3a4d": {
          "model_module": "@jupyter-widgets/base",
          "model_module_version": "1.2.0",
          "model_name": "LayoutModel",
          "state": {
            "_model_module": "@jupyter-widgets/base",
            "_model_module_version": "1.2.0",
            "_model_name": "LayoutModel",
            "_view_count": null,
            "_view_module": "@jupyter-widgets/base",
            "_view_module_version": "1.2.0",
            "_view_name": "LayoutView",
            "align_content": null,
            "align_items": null,
            "align_self": null,
            "border": null,
            "bottom": null,
            "display": null,
            "flex": null,
            "flex_flow": null,
            "grid_area": null,
            "grid_auto_columns": null,
            "grid_auto_flow": null,
            "grid_auto_rows": null,
            "grid_column": null,
            "grid_gap": null,
            "grid_row": null,
            "grid_template_areas": null,
            "grid_template_columns": null,
            "grid_template_rows": null,
            "height": null,
            "justify_content": null,
            "justify_items": null,
            "left": null,
            "margin": null,
            "max_height": null,
            "max_width": null,
            "min_height": null,
            "min_width": null,
            "object_fit": null,
            "object_position": null,
            "order": null,
            "overflow": null,
            "overflow_x": null,
            "overflow_y": null,
            "padding": null,
            "right": null,
            "top": null,
            "visibility": null,
            "width": null
          }
        },
        "dc3b06e29c8b4a908d2ddf80f95c2711": {
          "model_module": "@jupyter-widgets/controls",
          "model_module_version": "1.5.0",
          "model_name": "ProgressStyleModel",
          "state": {
            "_model_module": "@jupyter-widgets/controls",
            "_model_module_version": "1.5.0",
            "_model_name": "ProgressStyleModel",
            "_view_count": null,
            "_view_module": "@jupyter-widgets/base",
            "_view_module_version": "1.2.0",
            "_view_name": "StyleView",
            "bar_color": null,
            "description_width": ""
          }
        },
        "e6412cb98562435e84d37e3e9ee2b80d": {
          "model_module": "@jupyter-widgets/controls",
          "model_module_version": "1.5.0",
          "model_name": "HTMLModel",
          "state": {
            "_dom_classes": [],
            "_model_module": "@jupyter-widgets/controls",
            "_model_module_version": "1.5.0",
            "_model_name": "HTMLModel",
            "_view_count": null,
            "_view_module": "@jupyter-widgets/controls",
            "_view_module_version": "1.5.0",
            "_view_name": "HTMLView",
            "description": "",
            "description_tooltip": null,
            "layout": "IPY_MODEL_7608a3776e794a2a8497679723e7497a",
            "placeholder": "​",
            "style": "IPY_MODEL_95a53407910a4abcab5f026037600944",
            "value": " 1.96M/1.96M [00:00&lt;00:00, 4.54MB/s]"
          }
        },
        "eaf1756d9940498bb39ac43b11ac5fc3": {
          "model_module": "@jupyter-widgets/controls",
          "model_module_version": "1.5.0",
          "model_name": "ProgressStyleModel",
          "state": {
            "_model_module": "@jupyter-widgets/controls",
            "_model_module_version": "1.5.0",
            "_model_name": "ProgressStyleModel",
            "_view_count": null,
            "_view_module": "@jupyter-widgets/base",
            "_view_module_version": "1.2.0",
            "_view_name": "StyleView",
            "bar_color": null,
            "description_width": ""
          }
        },
        "ebada9cc85964b0b81ed5e236245ca45": {
          "model_module": "@jupyter-widgets/controls",
          "model_module_version": "1.5.0",
          "model_name": "FloatProgressModel",
          "state": {
            "_dom_classes": [],
            "_model_module": "@jupyter-widgets/controls",
            "_model_module_version": "1.5.0",
            "_model_name": "FloatProgressModel",
            "_view_count": null,
            "_view_module": "@jupyter-widgets/controls",
            "_view_module_version": "1.5.0",
            "_view_name": "ProgressView",
            "bar_style": "success",
            "description": "",
            "description_tooltip": null,
            "layout": "IPY_MODEL_368f5f26ed48458089aa3d1fb7835728",
            "max": 995526,
            "min": 0,
            "orientation": "horizontal",
            "style": "IPY_MODEL_2dfffab9a404487fb8e9f1087c34dfd9",
            "value": 995526
          }
        },
        "f580dbae44654a05ac2c7cfbe4741d47": {
          "model_module": "@jupyter-widgets/controls",
          "model_module_version": "1.5.0",
          "model_name": "HTMLModel",
          "state": {
            "_dom_classes": [],
            "_model_module": "@jupyter-widgets/controls",
            "_model_module_version": "1.5.0",
            "_model_name": "HTMLModel",
            "_view_count": null,
            "_view_module": "@jupyter-widgets/controls",
            "_view_module_version": "1.5.0",
            "_view_name": "HTMLView",
            "description": "",
            "description_tooltip": null,
            "layout": "IPY_MODEL_48671b4eda2e40e2a724614377216ea0",
            "placeholder": "​",
            "style": "IPY_MODEL_59de2d29ea684fd8b4855c7b2f85768c",
            "value": "tokenizer_config.json: 100%"
          }
        },
        "fb789b8344494bba99b9887eceb0a44a": {
          "model_module": "@jupyter-widgets/base",
          "model_module_version": "1.2.0",
          "model_name": "LayoutModel",
          "state": {
            "_model_module": "@jupyter-widgets/base",
            "_model_module_version": "1.2.0",
            "_model_name": "LayoutModel",
            "_view_count": null,
            "_view_module": "@jupyter-widgets/base",
            "_view_module_version": "1.2.0",
            "_view_name": "LayoutView",
            "align_content": null,
            "align_items": null,
            "align_self": null,
            "border": null,
            "bottom": null,
            "display": null,
            "flex": null,
            "flex_flow": null,
            "grid_area": null,
            "grid_auto_columns": null,
            "grid_auto_flow": null,
            "grid_auto_rows": null,
            "grid_column": null,
            "grid_gap": null,
            "grid_row": null,
            "grid_template_areas": null,
            "grid_template_columns": null,
            "grid_template_rows": null,
            "height": null,
            "justify_content": null,
            "justify_items": null,
            "left": null,
            "margin": null,
            "max_height": null,
            "max_width": null,
            "min_height": null,
            "min_width": null,
            "object_fit": null,
            "object_position": null,
            "order": null,
            "overflow": null,
            "overflow_x": null,
            "overflow_y": null,
            "padding": null,
            "right": null,
            "top": null,
            "visibility": null,
            "width": null
          }
        },
        "fdf4e7cac4c8419f80fe02f92e36bbb8": {
          "model_module": "@jupyter-widgets/controls",
          "model_module_version": "1.5.0",
          "model_name": "HTMLModel",
          "state": {
            "_dom_classes": [],
            "_model_module": "@jupyter-widgets/controls",
            "_model_module_version": "1.5.0",
            "_model_name": "HTMLModel",
            "_view_count": null,
            "_view_module": "@jupyter-widgets/controls",
            "_view_module_version": "1.5.0",
            "_view_name": "HTMLView",
            "description": "",
            "description_tooltip": null,
            "layout": "IPY_MODEL_bda448e3352d43dcb004e5f2163bb8af",
            "placeholder": "​",
            "style": "IPY_MODEL_70ed48ceb7a54d139ced0aa07f5fb8ef",
            "value": " 542M/542M [00:01&lt;00:00, 376MB/s]"
          }
        }
      }
    }
  },
  "nbformat": 4,
  "nbformat_minor": 0
}
